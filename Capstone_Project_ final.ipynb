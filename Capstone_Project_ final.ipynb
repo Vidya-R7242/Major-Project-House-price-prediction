{
 "cells": [
  {
   "cell_type": "markdown",
   "metadata": {},
   "source": [
    "# Problem statement"
   ]
  },
  {
   "cell_type": "markdown",
   "metadata": {},
   "source": [
    "The aim is to build a model to predict the selling price of the house for the real estate customers with respect to their budget and priorities. The house price is determined by using various factors such as geographical location, number of floors in the house, quality and current condition of the house, total area, furnished or non-furnished, number of bedrooms and bathrooms and so on. Here we make use of Machine Learning algorithms to build the price prediction model for the houses. We have around 21k records spread around 100 years of time span; this will fecilitate us to build an effective model."
   ]
  },
  {
   "cell_type": "markdown",
   "metadata": {},
   "source": [
    "## Importing Libraries :"
   ]
  },
  {
   "cell_type": "code",
   "execution_count": 552,
   "metadata": {},
   "outputs": [],
   "source": [
    "# Numerical libraries\n",
    "import numpy as np\n",
    "\n",
    "# to handle data in form of rows and columns \n",
    "import pandas as pd\n",
    "\n",
    "# importing ploting libraries\n",
    "import matplotlib.pyplot as plt\n",
    "\n",
    "# To enable plotting graphs in Jupyter notebook\n",
    "%matplotlib inline\n",
    "\n",
    "#importing seaborn for statistical plots\n",
    "import seaborn as sns"
   ]
  },
  {
   "cell_type": "code",
   "execution_count": 553,
   "metadata": {},
   "outputs": [],
   "source": [
    "# reading the CSV file into pandas dataframe\n",
    "house_df = pd.read_csv(\"innercity.csv\")"
   ]
  },
  {
   "cell_type": "code",
   "execution_count": 554,
   "metadata": {},
   "outputs": [
    {
     "data": {
      "text/html": [
       "<div>\n",
       "<style scoped>\n",
       "    .dataframe tbody tr th:only-of-type {\n",
       "        vertical-align: middle;\n",
       "    }\n",
       "\n",
       "    .dataframe tbody tr th {\n",
       "        vertical-align: top;\n",
       "    }\n",
       "\n",
       "    .dataframe thead th {\n",
       "        text-align: right;\n",
       "    }\n",
       "</style>\n",
       "<table border=\"1\" class=\"dataframe\">\n",
       "  <thead>\n",
       "    <tr style=\"text-align: right;\">\n",
       "      <th></th>\n",
       "      <th>cid</th>\n",
       "      <th>dayhours</th>\n",
       "      <th>price</th>\n",
       "      <th>room_bed</th>\n",
       "      <th>room_bath</th>\n",
       "      <th>living_measure</th>\n",
       "      <th>lot_measure</th>\n",
       "      <th>ceil</th>\n",
       "      <th>coast</th>\n",
       "      <th>sight</th>\n",
       "      <th>...</th>\n",
       "      <th>basement</th>\n",
       "      <th>yr_built</th>\n",
       "      <th>yr_renovated</th>\n",
       "      <th>zipcode</th>\n",
       "      <th>lat</th>\n",
       "      <th>long</th>\n",
       "      <th>living_measure15</th>\n",
       "      <th>lot_measure15</th>\n",
       "      <th>furnished</th>\n",
       "      <th>total_area</th>\n",
       "    </tr>\n",
       "  </thead>\n",
       "  <tbody>\n",
       "    <tr>\n",
       "      <th>0</th>\n",
       "      <td>3034200666</td>\n",
       "      <td>20141107T000000</td>\n",
       "      <td>808100</td>\n",
       "      <td>4</td>\n",
       "      <td>3.25</td>\n",
       "      <td>3020</td>\n",
       "      <td>13457</td>\n",
       "      <td>1.0</td>\n",
       "      <td>0</td>\n",
       "      <td>0</td>\n",
       "      <td>...</td>\n",
       "      <td>0</td>\n",
       "      <td>1956</td>\n",
       "      <td>0</td>\n",
       "      <td>98133</td>\n",
       "      <td>47.7174</td>\n",
       "      <td>-122.336</td>\n",
       "      <td>2120</td>\n",
       "      <td>7553</td>\n",
       "      <td>1</td>\n",
       "      <td>16477</td>\n",
       "    </tr>\n",
       "    <tr>\n",
       "      <th>1</th>\n",
       "      <td>8731981640</td>\n",
       "      <td>20141204T000000</td>\n",
       "      <td>277500</td>\n",
       "      <td>4</td>\n",
       "      <td>2.50</td>\n",
       "      <td>2550</td>\n",
       "      <td>7500</td>\n",
       "      <td>1.0</td>\n",
       "      <td>0</td>\n",
       "      <td>0</td>\n",
       "      <td>...</td>\n",
       "      <td>800</td>\n",
       "      <td>1976</td>\n",
       "      <td>0</td>\n",
       "      <td>98023</td>\n",
       "      <td>47.3165</td>\n",
       "      <td>-122.386</td>\n",
       "      <td>2260</td>\n",
       "      <td>8800</td>\n",
       "      <td>0</td>\n",
       "      <td>10050</td>\n",
       "    </tr>\n",
       "    <tr>\n",
       "      <th>2</th>\n",
       "      <td>5104530220</td>\n",
       "      <td>20150420T000000</td>\n",
       "      <td>404000</td>\n",
       "      <td>3</td>\n",
       "      <td>2.50</td>\n",
       "      <td>2370</td>\n",
       "      <td>4324</td>\n",
       "      <td>2.0</td>\n",
       "      <td>0</td>\n",
       "      <td>0</td>\n",
       "      <td>...</td>\n",
       "      <td>0</td>\n",
       "      <td>2006</td>\n",
       "      <td>0</td>\n",
       "      <td>98038</td>\n",
       "      <td>47.3515</td>\n",
       "      <td>-121.999</td>\n",
       "      <td>2370</td>\n",
       "      <td>4348</td>\n",
       "      <td>0</td>\n",
       "      <td>6694</td>\n",
       "    </tr>\n",
       "    <tr>\n",
       "      <th>3</th>\n",
       "      <td>6145600285</td>\n",
       "      <td>20140529T000000</td>\n",
       "      <td>300000</td>\n",
       "      <td>2</td>\n",
       "      <td>1.00</td>\n",
       "      <td>820</td>\n",
       "      <td>3844</td>\n",
       "      <td>1.0</td>\n",
       "      <td>0</td>\n",
       "      <td>0</td>\n",
       "      <td>...</td>\n",
       "      <td>0</td>\n",
       "      <td>1916</td>\n",
       "      <td>0</td>\n",
       "      <td>98133</td>\n",
       "      <td>47.7049</td>\n",
       "      <td>-122.349</td>\n",
       "      <td>1520</td>\n",
       "      <td>3844</td>\n",
       "      <td>0</td>\n",
       "      <td>4664</td>\n",
       "    </tr>\n",
       "    <tr>\n",
       "      <th>4</th>\n",
       "      <td>8924100111</td>\n",
       "      <td>20150424T000000</td>\n",
       "      <td>699000</td>\n",
       "      <td>2</td>\n",
       "      <td>1.50</td>\n",
       "      <td>1400</td>\n",
       "      <td>4050</td>\n",
       "      <td>1.0</td>\n",
       "      <td>0</td>\n",
       "      <td>0</td>\n",
       "      <td>...</td>\n",
       "      <td>0</td>\n",
       "      <td>1954</td>\n",
       "      <td>0</td>\n",
       "      <td>98115</td>\n",
       "      <td>47.6768</td>\n",
       "      <td>-122.269</td>\n",
       "      <td>1900</td>\n",
       "      <td>5940</td>\n",
       "      <td>0</td>\n",
       "      <td>5450</td>\n",
       "    </tr>\n",
       "  </tbody>\n",
       "</table>\n",
       "<p>5 rows × 23 columns</p>\n",
       "</div>"
      ],
      "text/plain": [
       "          cid         dayhours   price  room_bed  room_bath  living_measure  \\\n",
       "0  3034200666  20141107T000000  808100         4       3.25            3020   \n",
       "1  8731981640  20141204T000000  277500         4       2.50            2550   \n",
       "2  5104530220  20150420T000000  404000         3       2.50            2370   \n",
       "3  6145600285  20140529T000000  300000         2       1.00             820   \n",
       "4  8924100111  20150424T000000  699000         2       1.50            1400   \n",
       "\n",
       "   lot_measure  ceil  coast  sight  ...  basement  yr_built  yr_renovated  \\\n",
       "0        13457   1.0      0      0  ...         0      1956             0   \n",
       "1         7500   1.0      0      0  ...       800      1976             0   \n",
       "2         4324   2.0      0      0  ...         0      2006             0   \n",
       "3         3844   1.0      0      0  ...         0      1916             0   \n",
       "4         4050   1.0      0      0  ...         0      1954             0   \n",
       "\n",
       "   zipcode      lat     long  living_measure15  lot_measure15  furnished  \\\n",
       "0    98133  47.7174 -122.336              2120           7553          1   \n",
       "1    98023  47.3165 -122.386              2260           8800          0   \n",
       "2    98038  47.3515 -121.999              2370           4348          0   \n",
       "3    98133  47.7049 -122.349              1520           3844          0   \n",
       "4    98115  47.6768 -122.269              1900           5940          0   \n",
       "\n",
       "   total_area  \n",
       "0       16477  \n",
       "1       10050  \n",
       "2        6694  \n",
       "3        4664  \n",
       "4        5450  \n",
       "\n",
       "[5 rows x 23 columns]"
      ]
     },
     "execution_count": 554,
     "metadata": {},
     "output_type": "execute_result"
    }
   ],
   "source": [
    "# Check top few records to get a feel of the data structure\n",
    "house_df.head()"
   ]
  },
  {
   "cell_type": "code",
   "execution_count": 555,
   "metadata": {},
   "outputs": [
    {
     "data": {
      "text/plain": [
       "(21613, 23)"
      ]
     },
     "execution_count": 555,
     "metadata": {},
     "output_type": "execute_result"
    }
   ],
   "source": [
    "#Shape of the data\n",
    "house_df.shape"
   ]
  },
  {
   "cell_type": "code",
   "execution_count": 556,
   "metadata": {},
   "outputs": [
    {
     "data": {
      "text/html": [
       "<div>\n",
       "<style scoped>\n",
       "    .dataframe tbody tr th:only-of-type {\n",
       "        vertical-align: middle;\n",
       "    }\n",
       "\n",
       "    .dataframe tbody tr th {\n",
       "        vertical-align: top;\n",
       "    }\n",
       "\n",
       "    .dataframe thead th {\n",
       "        text-align: right;\n",
       "    }\n",
       "</style>\n",
       "<table border=\"1\" class=\"dataframe\">\n",
       "  <thead>\n",
       "    <tr style=\"text-align: right;\">\n",
       "      <th></th>\n",
       "      <th>count</th>\n",
       "      <th>mean</th>\n",
       "      <th>std</th>\n",
       "      <th>min</th>\n",
       "      <th>25%</th>\n",
       "      <th>50%</th>\n",
       "      <th>75%</th>\n",
       "      <th>max</th>\n",
       "    </tr>\n",
       "  </thead>\n",
       "  <tbody>\n",
       "    <tr>\n",
       "      <th>cid</th>\n",
       "      <td>21613.0</td>\n",
       "      <td>4.580302e+09</td>\n",
       "      <td>2.876566e+09</td>\n",
       "      <td>1.000102e+06</td>\n",
       "      <td>2.123049e+09</td>\n",
       "      <td>3.904930e+09</td>\n",
       "      <td>7.308900e+09</td>\n",
       "      <td>9.900000e+09</td>\n",
       "    </tr>\n",
       "    <tr>\n",
       "      <th>price</th>\n",
       "      <td>21613.0</td>\n",
       "      <td>5.401822e+05</td>\n",
       "      <td>3.673622e+05</td>\n",
       "      <td>7.500000e+04</td>\n",
       "      <td>3.219500e+05</td>\n",
       "      <td>4.500000e+05</td>\n",
       "      <td>6.450000e+05</td>\n",
       "      <td>7.700000e+06</td>\n",
       "    </tr>\n",
       "    <tr>\n",
       "      <th>room_bed</th>\n",
       "      <td>21613.0</td>\n",
       "      <td>3.370842e+00</td>\n",
       "      <td>9.300618e-01</td>\n",
       "      <td>0.000000e+00</td>\n",
       "      <td>3.000000e+00</td>\n",
       "      <td>3.000000e+00</td>\n",
       "      <td>4.000000e+00</td>\n",
       "      <td>3.300000e+01</td>\n",
       "    </tr>\n",
       "    <tr>\n",
       "      <th>room_bath</th>\n",
       "      <td>21613.0</td>\n",
       "      <td>2.114757e+00</td>\n",
       "      <td>7.701632e-01</td>\n",
       "      <td>0.000000e+00</td>\n",
       "      <td>1.750000e+00</td>\n",
       "      <td>2.250000e+00</td>\n",
       "      <td>2.500000e+00</td>\n",
       "      <td>8.000000e+00</td>\n",
       "    </tr>\n",
       "    <tr>\n",
       "      <th>living_measure</th>\n",
       "      <td>21613.0</td>\n",
       "      <td>2.079900e+03</td>\n",
       "      <td>9.184409e+02</td>\n",
       "      <td>2.900000e+02</td>\n",
       "      <td>1.427000e+03</td>\n",
       "      <td>1.910000e+03</td>\n",
       "      <td>2.550000e+03</td>\n",
       "      <td>1.354000e+04</td>\n",
       "    </tr>\n",
       "    <tr>\n",
       "      <th>lot_measure</th>\n",
       "      <td>21613.0</td>\n",
       "      <td>1.510697e+04</td>\n",
       "      <td>4.142051e+04</td>\n",
       "      <td>5.200000e+02</td>\n",
       "      <td>5.040000e+03</td>\n",
       "      <td>7.618000e+03</td>\n",
       "      <td>1.068800e+04</td>\n",
       "      <td>1.651359e+06</td>\n",
       "    </tr>\n",
       "    <tr>\n",
       "      <th>ceil</th>\n",
       "      <td>21613.0</td>\n",
       "      <td>1.494309e+00</td>\n",
       "      <td>5.399889e-01</td>\n",
       "      <td>1.000000e+00</td>\n",
       "      <td>1.000000e+00</td>\n",
       "      <td>1.500000e+00</td>\n",
       "      <td>2.000000e+00</td>\n",
       "      <td>3.500000e+00</td>\n",
       "    </tr>\n",
       "    <tr>\n",
       "      <th>coast</th>\n",
       "      <td>21613.0</td>\n",
       "      <td>7.541757e-03</td>\n",
       "      <td>8.651720e-02</td>\n",
       "      <td>0.000000e+00</td>\n",
       "      <td>0.000000e+00</td>\n",
       "      <td>0.000000e+00</td>\n",
       "      <td>0.000000e+00</td>\n",
       "      <td>1.000000e+00</td>\n",
       "    </tr>\n",
       "    <tr>\n",
       "      <th>sight</th>\n",
       "      <td>21613.0</td>\n",
       "      <td>2.343034e-01</td>\n",
       "      <td>7.663176e-01</td>\n",
       "      <td>0.000000e+00</td>\n",
       "      <td>0.000000e+00</td>\n",
       "      <td>0.000000e+00</td>\n",
       "      <td>0.000000e+00</td>\n",
       "      <td>4.000000e+00</td>\n",
       "    </tr>\n",
       "    <tr>\n",
       "      <th>condition</th>\n",
       "      <td>21613.0</td>\n",
       "      <td>3.409430e+00</td>\n",
       "      <td>6.507430e-01</td>\n",
       "      <td>1.000000e+00</td>\n",
       "      <td>3.000000e+00</td>\n",
       "      <td>3.000000e+00</td>\n",
       "      <td>4.000000e+00</td>\n",
       "      <td>5.000000e+00</td>\n",
       "    </tr>\n",
       "    <tr>\n",
       "      <th>quality</th>\n",
       "      <td>21613.0</td>\n",
       "      <td>7.656873e+00</td>\n",
       "      <td>1.175459e+00</td>\n",
       "      <td>1.000000e+00</td>\n",
       "      <td>7.000000e+00</td>\n",
       "      <td>7.000000e+00</td>\n",
       "      <td>8.000000e+00</td>\n",
       "      <td>1.300000e+01</td>\n",
       "    </tr>\n",
       "    <tr>\n",
       "      <th>ceil_measure</th>\n",
       "      <td>21613.0</td>\n",
       "      <td>1.788391e+03</td>\n",
       "      <td>8.280910e+02</td>\n",
       "      <td>2.900000e+02</td>\n",
       "      <td>1.190000e+03</td>\n",
       "      <td>1.560000e+03</td>\n",
       "      <td>2.210000e+03</td>\n",
       "      <td>9.410000e+03</td>\n",
       "    </tr>\n",
       "    <tr>\n",
       "      <th>basement</th>\n",
       "      <td>21613.0</td>\n",
       "      <td>2.915090e+02</td>\n",
       "      <td>4.425750e+02</td>\n",
       "      <td>0.000000e+00</td>\n",
       "      <td>0.000000e+00</td>\n",
       "      <td>0.000000e+00</td>\n",
       "      <td>5.600000e+02</td>\n",
       "      <td>4.820000e+03</td>\n",
       "    </tr>\n",
       "    <tr>\n",
       "      <th>yr_built</th>\n",
       "      <td>21613.0</td>\n",
       "      <td>1.971005e+03</td>\n",
       "      <td>2.937341e+01</td>\n",
       "      <td>1.900000e+03</td>\n",
       "      <td>1.951000e+03</td>\n",
       "      <td>1.975000e+03</td>\n",
       "      <td>1.997000e+03</td>\n",
       "      <td>2.015000e+03</td>\n",
       "    </tr>\n",
       "    <tr>\n",
       "      <th>yr_renovated</th>\n",
       "      <td>21613.0</td>\n",
       "      <td>8.440226e+01</td>\n",
       "      <td>4.016792e+02</td>\n",
       "      <td>0.000000e+00</td>\n",
       "      <td>0.000000e+00</td>\n",
       "      <td>0.000000e+00</td>\n",
       "      <td>0.000000e+00</td>\n",
       "      <td>2.015000e+03</td>\n",
       "    </tr>\n",
       "    <tr>\n",
       "      <th>zipcode</th>\n",
       "      <td>21613.0</td>\n",
       "      <td>9.807794e+04</td>\n",
       "      <td>5.350503e+01</td>\n",
       "      <td>9.800100e+04</td>\n",
       "      <td>9.803300e+04</td>\n",
       "      <td>9.806500e+04</td>\n",
       "      <td>9.811800e+04</td>\n",
       "      <td>9.819900e+04</td>\n",
       "    </tr>\n",
       "    <tr>\n",
       "      <th>lat</th>\n",
       "      <td>21613.0</td>\n",
       "      <td>4.756005e+01</td>\n",
       "      <td>1.385637e-01</td>\n",
       "      <td>4.715590e+01</td>\n",
       "      <td>4.747100e+01</td>\n",
       "      <td>4.757180e+01</td>\n",
       "      <td>4.767800e+01</td>\n",
       "      <td>4.777760e+01</td>\n",
       "    </tr>\n",
       "    <tr>\n",
       "      <th>long</th>\n",
       "      <td>21613.0</td>\n",
       "      <td>-1.222139e+02</td>\n",
       "      <td>1.408283e-01</td>\n",
       "      <td>-1.225190e+02</td>\n",
       "      <td>-1.223280e+02</td>\n",
       "      <td>-1.222300e+02</td>\n",
       "      <td>-1.221250e+02</td>\n",
       "      <td>-1.213150e+02</td>\n",
       "    </tr>\n",
       "    <tr>\n",
       "      <th>living_measure15</th>\n",
       "      <td>21613.0</td>\n",
       "      <td>1.986552e+03</td>\n",
       "      <td>6.853913e+02</td>\n",
       "      <td>3.990000e+02</td>\n",
       "      <td>1.490000e+03</td>\n",
       "      <td>1.840000e+03</td>\n",
       "      <td>2.360000e+03</td>\n",
       "      <td>6.210000e+03</td>\n",
       "    </tr>\n",
       "    <tr>\n",
       "      <th>lot_measure15</th>\n",
       "      <td>21613.0</td>\n",
       "      <td>1.276846e+04</td>\n",
       "      <td>2.730418e+04</td>\n",
       "      <td>6.510000e+02</td>\n",
       "      <td>5.100000e+03</td>\n",
       "      <td>7.620000e+03</td>\n",
       "      <td>1.008300e+04</td>\n",
       "      <td>8.712000e+05</td>\n",
       "    </tr>\n",
       "    <tr>\n",
       "      <th>furnished</th>\n",
       "      <td>21613.0</td>\n",
       "      <td>1.966872e-01</td>\n",
       "      <td>3.975030e-01</td>\n",
       "      <td>0.000000e+00</td>\n",
       "      <td>0.000000e+00</td>\n",
       "      <td>0.000000e+00</td>\n",
       "      <td>0.000000e+00</td>\n",
       "      <td>1.000000e+00</td>\n",
       "    </tr>\n",
       "    <tr>\n",
       "      <th>total_area</th>\n",
       "      <td>21613.0</td>\n",
       "      <td>1.718687e+04</td>\n",
       "      <td>4.158908e+04</td>\n",
       "      <td>1.423000e+03</td>\n",
       "      <td>7.035000e+03</td>\n",
       "      <td>9.575000e+03</td>\n",
       "      <td>1.300000e+04</td>\n",
       "      <td>1.652659e+06</td>\n",
       "    </tr>\n",
       "  </tbody>\n",
       "</table>\n",
       "</div>"
      ],
      "text/plain": [
       "                    count          mean           std           min  \\\n",
       "cid               21613.0  4.580302e+09  2.876566e+09  1.000102e+06   \n",
       "price             21613.0  5.401822e+05  3.673622e+05  7.500000e+04   \n",
       "room_bed          21613.0  3.370842e+00  9.300618e-01  0.000000e+00   \n",
       "room_bath         21613.0  2.114757e+00  7.701632e-01  0.000000e+00   \n",
       "living_measure    21613.0  2.079900e+03  9.184409e+02  2.900000e+02   \n",
       "lot_measure       21613.0  1.510697e+04  4.142051e+04  5.200000e+02   \n",
       "ceil              21613.0  1.494309e+00  5.399889e-01  1.000000e+00   \n",
       "coast             21613.0  7.541757e-03  8.651720e-02  0.000000e+00   \n",
       "sight             21613.0  2.343034e-01  7.663176e-01  0.000000e+00   \n",
       "condition         21613.0  3.409430e+00  6.507430e-01  1.000000e+00   \n",
       "quality           21613.0  7.656873e+00  1.175459e+00  1.000000e+00   \n",
       "ceil_measure      21613.0  1.788391e+03  8.280910e+02  2.900000e+02   \n",
       "basement          21613.0  2.915090e+02  4.425750e+02  0.000000e+00   \n",
       "yr_built          21613.0  1.971005e+03  2.937341e+01  1.900000e+03   \n",
       "yr_renovated      21613.0  8.440226e+01  4.016792e+02  0.000000e+00   \n",
       "zipcode           21613.0  9.807794e+04  5.350503e+01  9.800100e+04   \n",
       "lat               21613.0  4.756005e+01  1.385637e-01  4.715590e+01   \n",
       "long              21613.0 -1.222139e+02  1.408283e-01 -1.225190e+02   \n",
       "living_measure15  21613.0  1.986552e+03  6.853913e+02  3.990000e+02   \n",
       "lot_measure15     21613.0  1.276846e+04  2.730418e+04  6.510000e+02   \n",
       "furnished         21613.0  1.966872e-01  3.975030e-01  0.000000e+00   \n",
       "total_area        21613.0  1.718687e+04  4.158908e+04  1.423000e+03   \n",
       "\n",
       "                           25%           50%           75%           max  \n",
       "cid               2.123049e+09  3.904930e+09  7.308900e+09  9.900000e+09  \n",
       "price             3.219500e+05  4.500000e+05  6.450000e+05  7.700000e+06  \n",
       "room_bed          3.000000e+00  3.000000e+00  4.000000e+00  3.300000e+01  \n",
       "room_bath         1.750000e+00  2.250000e+00  2.500000e+00  8.000000e+00  \n",
       "living_measure    1.427000e+03  1.910000e+03  2.550000e+03  1.354000e+04  \n",
       "lot_measure       5.040000e+03  7.618000e+03  1.068800e+04  1.651359e+06  \n",
       "ceil              1.000000e+00  1.500000e+00  2.000000e+00  3.500000e+00  \n",
       "coast             0.000000e+00  0.000000e+00  0.000000e+00  1.000000e+00  \n",
       "sight             0.000000e+00  0.000000e+00  0.000000e+00  4.000000e+00  \n",
       "condition         3.000000e+00  3.000000e+00  4.000000e+00  5.000000e+00  \n",
       "quality           7.000000e+00  7.000000e+00  8.000000e+00  1.300000e+01  \n",
       "ceil_measure      1.190000e+03  1.560000e+03  2.210000e+03  9.410000e+03  \n",
       "basement          0.000000e+00  0.000000e+00  5.600000e+02  4.820000e+03  \n",
       "yr_built          1.951000e+03  1.975000e+03  1.997000e+03  2.015000e+03  \n",
       "yr_renovated      0.000000e+00  0.000000e+00  0.000000e+00  2.015000e+03  \n",
       "zipcode           9.803300e+04  9.806500e+04  9.811800e+04  9.819900e+04  \n",
       "lat               4.747100e+01  4.757180e+01  4.767800e+01  4.777760e+01  \n",
       "long             -1.223280e+02 -1.222300e+02 -1.221250e+02 -1.213150e+02  \n",
       "living_measure15  1.490000e+03  1.840000e+03  2.360000e+03  6.210000e+03  \n",
       "lot_measure15     5.100000e+03  7.620000e+03  1.008300e+04  8.712000e+05  \n",
       "furnished         0.000000e+00  0.000000e+00  0.000000e+00  1.000000e+00  \n",
       "total_area        7.035000e+03  9.575000e+03  1.300000e+04  1.652659e+06  "
      ]
     },
     "execution_count": 556,
     "metadata": {},
     "output_type": "execute_result"
    }
   ],
   "source": [
    "\n",
    "#5 point summary\n",
    "house_df.describe().T"
   ]
  },
  {
   "cell_type": "code",
   "execution_count": 557,
   "metadata": {},
   "outputs": [
    {
     "name": "stdout",
     "output_type": "stream",
     "text": [
      "<class 'pandas.core.frame.DataFrame'>\n",
      "RangeIndex: 21613 entries, 0 to 21612\n",
      "Data columns (total 23 columns):\n",
      "cid                 21613 non-null int64\n",
      "dayhours            21613 non-null object\n",
      "price               21613 non-null int64\n",
      "room_bed            21613 non-null int64\n",
      "room_bath           21613 non-null float64\n",
      "living_measure      21613 non-null int64\n",
      "lot_measure         21613 non-null int64\n",
      "ceil                21613 non-null float64\n",
      "coast               21613 non-null int64\n",
      "sight               21613 non-null int64\n",
      "condition           21613 non-null int64\n",
      "quality             21613 non-null int64\n",
      "ceil_measure        21613 non-null int64\n",
      "basement            21613 non-null int64\n",
      "yr_built            21613 non-null int64\n",
      "yr_renovated        21613 non-null int64\n",
      "zipcode             21613 non-null int64\n",
      "lat                 21613 non-null float64\n",
      "long                21613 non-null float64\n",
      "living_measure15    21613 non-null int64\n",
      "lot_measure15       21613 non-null int64\n",
      "furnished           21613 non-null int64\n",
      "total_area          21613 non-null int64\n",
      "dtypes: float64(4), int64(18), object(1)\n",
      "memory usage: 3.8+ MB\n"
     ]
    }
   ],
   "source": [
    "\n",
    "house_df.info()"
   ]
  },
  {
   "cell_type": "code",
   "execution_count": 558,
   "metadata": {},
   "outputs": [
    {
     "data": {
      "text/html": [
       "<div>\n",
       "<style scoped>\n",
       "    .dataframe tbody tr th:only-of-type {\n",
       "        vertical-align: middle;\n",
       "    }\n",
       "\n",
       "    .dataframe tbody tr th {\n",
       "        vertical-align: top;\n",
       "    }\n",
       "\n",
       "    .dataframe thead th {\n",
       "        text-align: right;\n",
       "    }\n",
       "</style>\n",
       "<table border=\"1\" class=\"dataframe\">\n",
       "  <thead>\n",
       "    <tr style=\"text-align: right;\">\n",
       "      <th></th>\n",
       "      <th>cid</th>\n",
       "      <th>dayhours</th>\n",
       "      <th>price</th>\n",
       "      <th>room_bed</th>\n",
       "      <th>room_bath</th>\n",
       "      <th>living_measure</th>\n",
       "      <th>lot_measure</th>\n",
       "      <th>ceil</th>\n",
       "      <th>coast</th>\n",
       "      <th>sight</th>\n",
       "      <th>...</th>\n",
       "      <th>yr_built</th>\n",
       "      <th>yr_renovated</th>\n",
       "      <th>zipcode</th>\n",
       "      <th>lat</th>\n",
       "      <th>long</th>\n",
       "      <th>living_measure15</th>\n",
       "      <th>lot_measure15</th>\n",
       "      <th>furnished</th>\n",
       "      <th>total_area</th>\n",
       "      <th>yr_sold</th>\n",
       "    </tr>\n",
       "  </thead>\n",
       "  <tbody>\n",
       "    <tr>\n",
       "      <th>0</th>\n",
       "      <td>3034200666</td>\n",
       "      <td>20141107T000000</td>\n",
       "      <td>808100</td>\n",
       "      <td>4</td>\n",
       "      <td>3.25</td>\n",
       "      <td>3020</td>\n",
       "      <td>13457</td>\n",
       "      <td>1.0</td>\n",
       "      <td>0</td>\n",
       "      <td>0</td>\n",
       "      <td>...</td>\n",
       "      <td>1956</td>\n",
       "      <td>0</td>\n",
       "      <td>98133</td>\n",
       "      <td>47.7174</td>\n",
       "      <td>-122.336</td>\n",
       "      <td>2120</td>\n",
       "      <td>7553</td>\n",
       "      <td>1</td>\n",
       "      <td>16477</td>\n",
       "      <td>2014</td>\n",
       "    </tr>\n",
       "    <tr>\n",
       "      <th>1</th>\n",
       "      <td>8731981640</td>\n",
       "      <td>20141204T000000</td>\n",
       "      <td>277500</td>\n",
       "      <td>4</td>\n",
       "      <td>2.50</td>\n",
       "      <td>2550</td>\n",
       "      <td>7500</td>\n",
       "      <td>1.0</td>\n",
       "      <td>0</td>\n",
       "      <td>0</td>\n",
       "      <td>...</td>\n",
       "      <td>1976</td>\n",
       "      <td>0</td>\n",
       "      <td>98023</td>\n",
       "      <td>47.3165</td>\n",
       "      <td>-122.386</td>\n",
       "      <td>2260</td>\n",
       "      <td>8800</td>\n",
       "      <td>0</td>\n",
       "      <td>10050</td>\n",
       "      <td>2014</td>\n",
       "    </tr>\n",
       "    <tr>\n",
       "      <th>2</th>\n",
       "      <td>5104530220</td>\n",
       "      <td>20150420T000000</td>\n",
       "      <td>404000</td>\n",
       "      <td>3</td>\n",
       "      <td>2.50</td>\n",
       "      <td>2370</td>\n",
       "      <td>4324</td>\n",
       "      <td>2.0</td>\n",
       "      <td>0</td>\n",
       "      <td>0</td>\n",
       "      <td>...</td>\n",
       "      <td>2006</td>\n",
       "      <td>0</td>\n",
       "      <td>98038</td>\n",
       "      <td>47.3515</td>\n",
       "      <td>-121.999</td>\n",
       "      <td>2370</td>\n",
       "      <td>4348</td>\n",
       "      <td>0</td>\n",
       "      <td>6694</td>\n",
       "      <td>2015</td>\n",
       "    </tr>\n",
       "    <tr>\n",
       "      <th>3</th>\n",
       "      <td>6145600285</td>\n",
       "      <td>20140529T000000</td>\n",
       "      <td>300000</td>\n",
       "      <td>2</td>\n",
       "      <td>1.00</td>\n",
       "      <td>820</td>\n",
       "      <td>3844</td>\n",
       "      <td>1.0</td>\n",
       "      <td>0</td>\n",
       "      <td>0</td>\n",
       "      <td>...</td>\n",
       "      <td>1916</td>\n",
       "      <td>0</td>\n",
       "      <td>98133</td>\n",
       "      <td>47.7049</td>\n",
       "      <td>-122.349</td>\n",
       "      <td>1520</td>\n",
       "      <td>3844</td>\n",
       "      <td>0</td>\n",
       "      <td>4664</td>\n",
       "      <td>2014</td>\n",
       "    </tr>\n",
       "    <tr>\n",
       "      <th>4</th>\n",
       "      <td>8924100111</td>\n",
       "      <td>20150424T000000</td>\n",
       "      <td>699000</td>\n",
       "      <td>2</td>\n",
       "      <td>1.50</td>\n",
       "      <td>1400</td>\n",
       "      <td>4050</td>\n",
       "      <td>1.0</td>\n",
       "      <td>0</td>\n",
       "      <td>0</td>\n",
       "      <td>...</td>\n",
       "      <td>1954</td>\n",
       "      <td>0</td>\n",
       "      <td>98115</td>\n",
       "      <td>47.6768</td>\n",
       "      <td>-122.269</td>\n",
       "      <td>1900</td>\n",
       "      <td>5940</td>\n",
       "      <td>0</td>\n",
       "      <td>5450</td>\n",
       "      <td>2015</td>\n",
       "    </tr>\n",
       "  </tbody>\n",
       "</table>\n",
       "<p>5 rows × 24 columns</p>\n",
       "</div>"
      ],
      "text/plain": [
       "          cid         dayhours   price  room_bed  room_bath  living_measure  \\\n",
       "0  3034200666  20141107T000000  808100         4       3.25            3020   \n",
       "1  8731981640  20141204T000000  277500         4       2.50            2550   \n",
       "2  5104530220  20150420T000000  404000         3       2.50            2370   \n",
       "3  6145600285  20140529T000000  300000         2       1.00             820   \n",
       "4  8924100111  20150424T000000  699000         2       1.50            1400   \n",
       "\n",
       "   lot_measure  ceil  coast  sight  ...  yr_built  yr_renovated  zipcode  \\\n",
       "0        13457   1.0      0      0  ...      1956             0    98133   \n",
       "1         7500   1.0      0      0  ...      1976             0    98023   \n",
       "2         4324   2.0      0      0  ...      2006             0    98038   \n",
       "3         3844   1.0      0      0  ...      1916             0    98133   \n",
       "4         4050   1.0      0      0  ...      1954             0    98115   \n",
       "\n",
       "       lat     long  living_measure15  lot_measure15  furnished  total_area  \\\n",
       "0  47.7174 -122.336              2120           7553          1       16477   \n",
       "1  47.3165 -122.386              2260           8800          0       10050   \n",
       "2  47.3515 -121.999              2370           4348          0        6694   \n",
       "3  47.7049 -122.349              1520           3844          0        4664   \n",
       "4  47.6768 -122.269              1900           5940          0        5450   \n",
       "\n",
       "   yr_sold  \n",
       "0     2014  \n",
       "1     2014  \n",
       "2     2015  \n",
       "3     2014  \n",
       "4     2015  \n",
       "\n",
       "[5 rows x 24 columns]"
      ]
     },
     "execution_count": 558,
     "metadata": {},
     "output_type": "execute_result"
    }
   ],
   "source": [
    "# Exctracting Year from dayhours column which is the year in which house was sold\n",
    "house_df[\"yr_sold\"]=house_df[\"dayhours\"].apply(lambda x:x[:4]).astype(int)\n",
    " # 'yr_sold' column is added as the last column\n",
    "house_df.head()"
   ]
  },
  {
   "cell_type": "code",
   "execution_count": null,
   "metadata": {},
   "outputs": [],
   "source": []
  },
  {
   "cell_type": "code",
   "execution_count": 559,
   "metadata": {},
   "outputs": [
    {
     "data": {
      "text/html": [
       "<div>\n",
       "<style scoped>\n",
       "    .dataframe tbody tr th:only-of-type {\n",
       "        vertical-align: middle;\n",
       "    }\n",
       "\n",
       "    .dataframe tbody tr th {\n",
       "        vertical-align: top;\n",
       "    }\n",
       "\n",
       "    .dataframe thead th {\n",
       "        text-align: right;\n",
       "    }\n",
       "</style>\n",
       "<table border=\"1\" class=\"dataframe\">\n",
       "  <thead>\n",
       "    <tr style=\"text-align: right;\">\n",
       "      <th></th>\n",
       "      <th>cid</th>\n",
       "      <th>dayhours</th>\n",
       "      <th>price</th>\n",
       "      <th>room_bed</th>\n",
       "      <th>room_bath</th>\n",
       "      <th>living_measure</th>\n",
       "      <th>lot_measure</th>\n",
       "      <th>ceil</th>\n",
       "      <th>coast</th>\n",
       "      <th>sight</th>\n",
       "      <th>...</th>\n",
       "      <th>yr_renovated</th>\n",
       "      <th>zipcode</th>\n",
       "      <th>lat</th>\n",
       "      <th>long</th>\n",
       "      <th>living_measure15</th>\n",
       "      <th>lot_measure15</th>\n",
       "      <th>furnished</th>\n",
       "      <th>total_area</th>\n",
       "      <th>yr_sold</th>\n",
       "      <th>house_age</th>\n",
       "    </tr>\n",
       "  </thead>\n",
       "  <tbody>\n",
       "    <tr>\n",
       "      <th>0</th>\n",
       "      <td>3034200666</td>\n",
       "      <td>20141107T000000</td>\n",
       "      <td>808100</td>\n",
       "      <td>4</td>\n",
       "      <td>3.25</td>\n",
       "      <td>3020</td>\n",
       "      <td>13457</td>\n",
       "      <td>1.0</td>\n",
       "      <td>0</td>\n",
       "      <td>0</td>\n",
       "      <td>...</td>\n",
       "      <td>0</td>\n",
       "      <td>98133</td>\n",
       "      <td>47.7174</td>\n",
       "      <td>-122.336</td>\n",
       "      <td>2120</td>\n",
       "      <td>7553</td>\n",
       "      <td>1</td>\n",
       "      <td>16477</td>\n",
       "      <td>2014</td>\n",
       "      <td>58</td>\n",
       "    </tr>\n",
       "    <tr>\n",
       "      <th>1</th>\n",
       "      <td>8731981640</td>\n",
       "      <td>20141204T000000</td>\n",
       "      <td>277500</td>\n",
       "      <td>4</td>\n",
       "      <td>2.50</td>\n",
       "      <td>2550</td>\n",
       "      <td>7500</td>\n",
       "      <td>1.0</td>\n",
       "      <td>0</td>\n",
       "      <td>0</td>\n",
       "      <td>...</td>\n",
       "      <td>0</td>\n",
       "      <td>98023</td>\n",
       "      <td>47.3165</td>\n",
       "      <td>-122.386</td>\n",
       "      <td>2260</td>\n",
       "      <td>8800</td>\n",
       "      <td>0</td>\n",
       "      <td>10050</td>\n",
       "      <td>2014</td>\n",
       "      <td>38</td>\n",
       "    </tr>\n",
       "    <tr>\n",
       "      <th>2</th>\n",
       "      <td>5104530220</td>\n",
       "      <td>20150420T000000</td>\n",
       "      <td>404000</td>\n",
       "      <td>3</td>\n",
       "      <td>2.50</td>\n",
       "      <td>2370</td>\n",
       "      <td>4324</td>\n",
       "      <td>2.0</td>\n",
       "      <td>0</td>\n",
       "      <td>0</td>\n",
       "      <td>...</td>\n",
       "      <td>0</td>\n",
       "      <td>98038</td>\n",
       "      <td>47.3515</td>\n",
       "      <td>-121.999</td>\n",
       "      <td>2370</td>\n",
       "      <td>4348</td>\n",
       "      <td>0</td>\n",
       "      <td>6694</td>\n",
       "      <td>2015</td>\n",
       "      <td>9</td>\n",
       "    </tr>\n",
       "    <tr>\n",
       "      <th>3</th>\n",
       "      <td>6145600285</td>\n",
       "      <td>20140529T000000</td>\n",
       "      <td>300000</td>\n",
       "      <td>2</td>\n",
       "      <td>1.00</td>\n",
       "      <td>820</td>\n",
       "      <td>3844</td>\n",
       "      <td>1.0</td>\n",
       "      <td>0</td>\n",
       "      <td>0</td>\n",
       "      <td>...</td>\n",
       "      <td>0</td>\n",
       "      <td>98133</td>\n",
       "      <td>47.7049</td>\n",
       "      <td>-122.349</td>\n",
       "      <td>1520</td>\n",
       "      <td>3844</td>\n",
       "      <td>0</td>\n",
       "      <td>4664</td>\n",
       "      <td>2014</td>\n",
       "      <td>98</td>\n",
       "    </tr>\n",
       "    <tr>\n",
       "      <th>4</th>\n",
       "      <td>8924100111</td>\n",
       "      <td>20150424T000000</td>\n",
       "      <td>699000</td>\n",
       "      <td>2</td>\n",
       "      <td>1.50</td>\n",
       "      <td>1400</td>\n",
       "      <td>4050</td>\n",
       "      <td>1.0</td>\n",
       "      <td>0</td>\n",
       "      <td>0</td>\n",
       "      <td>...</td>\n",
       "      <td>0</td>\n",
       "      <td>98115</td>\n",
       "      <td>47.6768</td>\n",
       "      <td>-122.269</td>\n",
       "      <td>1900</td>\n",
       "      <td>5940</td>\n",
       "      <td>0</td>\n",
       "      <td>5450</td>\n",
       "      <td>2015</td>\n",
       "      <td>61</td>\n",
       "    </tr>\n",
       "  </tbody>\n",
       "</table>\n",
       "<p>5 rows × 25 columns</p>\n",
       "</div>"
      ],
      "text/plain": [
       "          cid         dayhours   price  room_bed  room_bath  living_measure  \\\n",
       "0  3034200666  20141107T000000  808100         4       3.25            3020   \n",
       "1  8731981640  20141204T000000  277500         4       2.50            2550   \n",
       "2  5104530220  20150420T000000  404000         3       2.50            2370   \n",
       "3  6145600285  20140529T000000  300000         2       1.00             820   \n",
       "4  8924100111  20150424T000000  699000         2       1.50            1400   \n",
       "\n",
       "   lot_measure  ceil  coast  sight  ...  yr_renovated  zipcode      lat  \\\n",
       "0        13457   1.0      0      0  ...             0    98133  47.7174   \n",
       "1         7500   1.0      0      0  ...             0    98023  47.3165   \n",
       "2         4324   2.0      0      0  ...             0    98038  47.3515   \n",
       "3         3844   1.0      0      0  ...             0    98133  47.7049   \n",
       "4         4050   1.0      0      0  ...             0    98115  47.6768   \n",
       "\n",
       "      long  living_measure15  lot_measure15  furnished  total_area  yr_sold  \\\n",
       "0 -122.336              2120           7553          1       16477     2014   \n",
       "1 -122.386              2260           8800          0       10050     2014   \n",
       "2 -121.999              2370           4348          0        6694     2015   \n",
       "3 -122.349              1520           3844          0        4664     2014   \n",
       "4 -122.269              1900           5940          0        5450     2015   \n",
       "\n",
       "   house_age  \n",
       "0         58  \n",
       "1         38  \n",
       "2          9  \n",
       "3         98  \n",
       "4         61  \n",
       "\n",
       "[5 rows x 25 columns]"
      ]
     },
     "execution_count": 559,
     "metadata": {},
     "output_type": "execute_result"
    }
   ],
   "source": [
    "house_df['house_age']=house_df['yr_sold']-house_df['yr_built']\n",
    "house_df.head()\n",
    "\n",
    "# This means there are 9 entries with yr_built greater than yr_sold. Age of the house cant be negative.\n"
   ]
  },
  {
   "cell_type": "code",
   "execution_count": 560,
   "metadata": {},
   "outputs": [
    {
     "data": {
      "text/html": [
       "<div>\n",
       "<style scoped>\n",
       "    .dataframe tbody tr th:only-of-type {\n",
       "        vertical-align: middle;\n",
       "    }\n",
       "\n",
       "    .dataframe tbody tr th {\n",
       "        vertical-align: top;\n",
       "    }\n",
       "\n",
       "    .dataframe thead th {\n",
       "        text-align: right;\n",
       "    }\n",
       "</style>\n",
       "<table border=\"1\" class=\"dataframe\">\n",
       "  <thead>\n",
       "    <tr style=\"text-align: right;\">\n",
       "      <th></th>\n",
       "      <th>cid</th>\n",
       "      <th>dayhours</th>\n",
       "      <th>price</th>\n",
       "      <th>room_bed</th>\n",
       "      <th>room_bath</th>\n",
       "      <th>living_measure</th>\n",
       "      <th>lot_measure</th>\n",
       "      <th>ceil</th>\n",
       "      <th>coast</th>\n",
       "      <th>sight</th>\n",
       "      <th>...</th>\n",
       "      <th>yr_renovated</th>\n",
       "      <th>zipcode</th>\n",
       "      <th>lat</th>\n",
       "      <th>long</th>\n",
       "      <th>living_measure15</th>\n",
       "      <th>lot_measure15</th>\n",
       "      <th>furnished</th>\n",
       "      <th>total_area</th>\n",
       "      <th>yr_sold</th>\n",
       "      <th>house_age</th>\n",
       "    </tr>\n",
       "  </thead>\n",
       "  <tbody>\n",
       "    <tr>\n",
       "      <th>1233</th>\n",
       "      <td>9126100765</td>\n",
       "      <td>20140801T000000</td>\n",
       "      <td>455000</td>\n",
       "      <td>3</td>\n",
       "      <td>1.75</td>\n",
       "      <td>1320</td>\n",
       "      <td>1014</td>\n",
       "      <td>3.0</td>\n",
       "      <td>0</td>\n",
       "      <td>0</td>\n",
       "      <td>...</td>\n",
       "      <td>0</td>\n",
       "      <td>98122</td>\n",
       "      <td>47.6047</td>\n",
       "      <td>-122.305</td>\n",
       "      <td>1380</td>\n",
       "      <td>1495</td>\n",
       "      <td>1</td>\n",
       "      <td>2334</td>\n",
       "      <td>2014</td>\n",
       "      <td>-1</td>\n",
       "    </tr>\n",
       "    <tr>\n",
       "      <th>3109</th>\n",
       "      <td>5694500840</td>\n",
       "      <td>20141125T000000</td>\n",
       "      <td>559000</td>\n",
       "      <td>2</td>\n",
       "      <td>3.00</td>\n",
       "      <td>1650</td>\n",
       "      <td>960</td>\n",
       "      <td>3.0</td>\n",
       "      <td>0</td>\n",
       "      <td>0</td>\n",
       "      <td>...</td>\n",
       "      <td>0</td>\n",
       "      <td>98103</td>\n",
       "      <td>47.6611</td>\n",
       "      <td>-122.346</td>\n",
       "      <td>1650</td>\n",
       "      <td>3000</td>\n",
       "      <td>0</td>\n",
       "      <td>2610</td>\n",
       "      <td>2014</td>\n",
       "      <td>-1</td>\n",
       "    </tr>\n",
       "    <tr>\n",
       "      <th>10530</th>\n",
       "      <td>6169901185</td>\n",
       "      <td>20140520T000000</td>\n",
       "      <td>490000</td>\n",
       "      <td>5</td>\n",
       "      <td>3.50</td>\n",
       "      <td>4460</td>\n",
       "      <td>2975</td>\n",
       "      <td>3.0</td>\n",
       "      <td>0</td>\n",
       "      <td>2</td>\n",
       "      <td>...</td>\n",
       "      <td>0</td>\n",
       "      <td>98119</td>\n",
       "      <td>47.6313</td>\n",
       "      <td>-122.370</td>\n",
       "      <td>2490</td>\n",
       "      <td>4231</td>\n",
       "      <td>1</td>\n",
       "      <td>7435</td>\n",
       "      <td>2014</td>\n",
       "      <td>-1</td>\n",
       "    </tr>\n",
       "    <tr>\n",
       "      <th>11734</th>\n",
       "      <td>3076500830</td>\n",
       "      <td>20141029T000000</td>\n",
       "      <td>385195</td>\n",
       "      <td>1</td>\n",
       "      <td>1.00</td>\n",
       "      <td>710</td>\n",
       "      <td>6000</td>\n",
       "      <td>1.5</td>\n",
       "      <td>0</td>\n",
       "      <td>0</td>\n",
       "      <td>...</td>\n",
       "      <td>0</td>\n",
       "      <td>98144</td>\n",
       "      <td>47.5756</td>\n",
       "      <td>-122.316</td>\n",
       "      <td>1440</td>\n",
       "      <td>4800</td>\n",
       "      <td>0</td>\n",
       "      <td>6710</td>\n",
       "      <td>2014</td>\n",
       "      <td>-1</td>\n",
       "    </tr>\n",
       "    <tr>\n",
       "      <th>11744</th>\n",
       "      <td>6058600220</td>\n",
       "      <td>20140731T000000</td>\n",
       "      <td>230000</td>\n",
       "      <td>3</td>\n",
       "      <td>1.50</td>\n",
       "      <td>1040</td>\n",
       "      <td>1264</td>\n",
       "      <td>2.0</td>\n",
       "      <td>0</td>\n",
       "      <td>0</td>\n",
       "      <td>...</td>\n",
       "      <td>0</td>\n",
       "      <td>98144</td>\n",
       "      <td>47.5951</td>\n",
       "      <td>-122.301</td>\n",
       "      <td>1350</td>\n",
       "      <td>3000</td>\n",
       "      <td>1</td>\n",
       "      <td>2304</td>\n",
       "      <td>2014</td>\n",
       "      <td>-1</td>\n",
       "    </tr>\n",
       "    <tr>\n",
       "      <th>12509</th>\n",
       "      <td>9520900210</td>\n",
       "      <td>20141231T000000</td>\n",
       "      <td>614285</td>\n",
       "      <td>5</td>\n",
       "      <td>2.75</td>\n",
       "      <td>2730</td>\n",
       "      <td>6401</td>\n",
       "      <td>2.0</td>\n",
       "      <td>0</td>\n",
       "      <td>0</td>\n",
       "      <td>...</td>\n",
       "      <td>0</td>\n",
       "      <td>98072</td>\n",
       "      <td>47.7685</td>\n",
       "      <td>-122.160</td>\n",
       "      <td>2520</td>\n",
       "      <td>6126</td>\n",
       "      <td>0</td>\n",
       "      <td>9131</td>\n",
       "      <td>2014</td>\n",
       "      <td>-1</td>\n",
       "    </tr>\n",
       "    <tr>\n",
       "      <th>13333</th>\n",
       "      <td>1832100030</td>\n",
       "      <td>20140625T000000</td>\n",
       "      <td>597326</td>\n",
       "      <td>4</td>\n",
       "      <td>4.00</td>\n",
       "      <td>3570</td>\n",
       "      <td>8250</td>\n",
       "      <td>2.0</td>\n",
       "      <td>0</td>\n",
       "      <td>0</td>\n",
       "      <td>...</td>\n",
       "      <td>0</td>\n",
       "      <td>98040</td>\n",
       "      <td>47.5784</td>\n",
       "      <td>-122.226</td>\n",
       "      <td>2230</td>\n",
       "      <td>10000</td>\n",
       "      <td>1</td>\n",
       "      <td>11820</td>\n",
       "      <td>2014</td>\n",
       "      <td>-1</td>\n",
       "    </tr>\n",
       "    <tr>\n",
       "      <th>16360</th>\n",
       "      <td>2770601530</td>\n",
       "      <td>20140826T000000</td>\n",
       "      <td>500000</td>\n",
       "      <td>2</td>\n",
       "      <td>2.25</td>\n",
       "      <td>1570</td>\n",
       "      <td>1269</td>\n",
       "      <td>2.0</td>\n",
       "      <td>0</td>\n",
       "      <td>0</td>\n",
       "      <td>...</td>\n",
       "      <td>0</td>\n",
       "      <td>98199</td>\n",
       "      <td>47.6514</td>\n",
       "      <td>-122.385</td>\n",
       "      <td>1570</td>\n",
       "      <td>6000</td>\n",
       "      <td>1</td>\n",
       "      <td>2839</td>\n",
       "      <td>2014</td>\n",
       "      <td>-1</td>\n",
       "    </tr>\n",
       "    <tr>\n",
       "      <th>17202</th>\n",
       "      <td>9126100346</td>\n",
       "      <td>20140617T000000</td>\n",
       "      <td>350000</td>\n",
       "      <td>3</td>\n",
       "      <td>2.00</td>\n",
       "      <td>1380</td>\n",
       "      <td>3600</td>\n",
       "      <td>3.0</td>\n",
       "      <td>0</td>\n",
       "      <td>0</td>\n",
       "      <td>...</td>\n",
       "      <td>0</td>\n",
       "      <td>98122</td>\n",
       "      <td>47.6074</td>\n",
       "      <td>-122.305</td>\n",
       "      <td>1480</td>\n",
       "      <td>3600</td>\n",
       "      <td>0</td>\n",
       "      <td>4980</td>\n",
       "      <td>2014</td>\n",
       "      <td>-1</td>\n",
       "    </tr>\n",
       "    <tr>\n",
       "      <th>17763</th>\n",
       "      <td>1250200495</td>\n",
       "      <td>20140624T000000</td>\n",
       "      <td>455000</td>\n",
       "      <td>2</td>\n",
       "      <td>1.50</td>\n",
       "      <td>1200</td>\n",
       "      <td>1259</td>\n",
       "      <td>2.0</td>\n",
       "      <td>0</td>\n",
       "      <td>0</td>\n",
       "      <td>...</td>\n",
       "      <td>0</td>\n",
       "      <td>98144</td>\n",
       "      <td>47.6001</td>\n",
       "      <td>-122.298</td>\n",
       "      <td>1320</td>\n",
       "      <td>1852</td>\n",
       "      <td>0</td>\n",
       "      <td>2459</td>\n",
       "      <td>2014</td>\n",
       "      <td>-1</td>\n",
       "    </tr>\n",
       "    <tr>\n",
       "      <th>20604</th>\n",
       "      <td>1257201420</td>\n",
       "      <td>20140709T000000</td>\n",
       "      <td>595000</td>\n",
       "      <td>4</td>\n",
       "      <td>3.25</td>\n",
       "      <td>3730</td>\n",
       "      <td>4560</td>\n",
       "      <td>2.0</td>\n",
       "      <td>0</td>\n",
       "      <td>0</td>\n",
       "      <td>...</td>\n",
       "      <td>0</td>\n",
       "      <td>98103</td>\n",
       "      <td>47.6725</td>\n",
       "      <td>-122.330</td>\n",
       "      <td>1800</td>\n",
       "      <td>4560</td>\n",
       "      <td>1</td>\n",
       "      <td>8290</td>\n",
       "      <td>2014</td>\n",
       "      <td>-1</td>\n",
       "    </tr>\n",
       "    <tr>\n",
       "      <th>21273</th>\n",
       "      <td>9310300160</td>\n",
       "      <td>20140828T000000</td>\n",
       "      <td>357000</td>\n",
       "      <td>5</td>\n",
       "      <td>2.50</td>\n",
       "      <td>2990</td>\n",
       "      <td>9240</td>\n",
       "      <td>2.0</td>\n",
       "      <td>0</td>\n",
       "      <td>0</td>\n",
       "      <td>...</td>\n",
       "      <td>0</td>\n",
       "      <td>98133</td>\n",
       "      <td>47.7384</td>\n",
       "      <td>-122.348</td>\n",
       "      <td>1970</td>\n",
       "      <td>18110</td>\n",
       "      <td>0</td>\n",
       "      <td>12230</td>\n",
       "      <td>2014</td>\n",
       "      <td>-1</td>\n",
       "    </tr>\n",
       "  </tbody>\n",
       "</table>\n",
       "<p>12 rows × 25 columns</p>\n",
       "</div>"
      ],
      "text/plain": [
       "              cid         dayhours   price  room_bed  room_bath  \\\n",
       "1233   9126100765  20140801T000000  455000         3       1.75   \n",
       "3109   5694500840  20141125T000000  559000         2       3.00   \n",
       "10530  6169901185  20140520T000000  490000         5       3.50   \n",
       "11734  3076500830  20141029T000000  385195         1       1.00   \n",
       "11744  6058600220  20140731T000000  230000         3       1.50   \n",
       "12509  9520900210  20141231T000000  614285         5       2.75   \n",
       "13333  1832100030  20140625T000000  597326         4       4.00   \n",
       "16360  2770601530  20140826T000000  500000         2       2.25   \n",
       "17202  9126100346  20140617T000000  350000         3       2.00   \n",
       "17763  1250200495  20140624T000000  455000         2       1.50   \n",
       "20604  1257201420  20140709T000000  595000         4       3.25   \n",
       "21273  9310300160  20140828T000000  357000         5       2.50   \n",
       "\n",
       "       living_measure  lot_measure  ceil  coast  sight  ...  yr_renovated  \\\n",
       "1233             1320         1014   3.0      0      0  ...             0   \n",
       "3109             1650          960   3.0      0      0  ...             0   \n",
       "10530            4460         2975   3.0      0      2  ...             0   \n",
       "11734             710         6000   1.5      0      0  ...             0   \n",
       "11744            1040         1264   2.0      0      0  ...             0   \n",
       "12509            2730         6401   2.0      0      0  ...             0   \n",
       "13333            3570         8250   2.0      0      0  ...             0   \n",
       "16360            1570         1269   2.0      0      0  ...             0   \n",
       "17202            1380         3600   3.0      0      0  ...             0   \n",
       "17763            1200         1259   2.0      0      0  ...             0   \n",
       "20604            3730         4560   2.0      0      0  ...             0   \n",
       "21273            2990         9240   2.0      0      0  ...             0   \n",
       "\n",
       "       zipcode      lat     long  living_measure15  lot_measure15  furnished  \\\n",
       "1233     98122  47.6047 -122.305              1380           1495          1   \n",
       "3109     98103  47.6611 -122.346              1650           3000          0   \n",
       "10530    98119  47.6313 -122.370              2490           4231          1   \n",
       "11734    98144  47.5756 -122.316              1440           4800          0   \n",
       "11744    98144  47.5951 -122.301              1350           3000          1   \n",
       "12509    98072  47.7685 -122.160              2520           6126          0   \n",
       "13333    98040  47.5784 -122.226              2230          10000          1   \n",
       "16360    98199  47.6514 -122.385              1570           6000          1   \n",
       "17202    98122  47.6074 -122.305              1480           3600          0   \n",
       "17763    98144  47.6001 -122.298              1320           1852          0   \n",
       "20604    98103  47.6725 -122.330              1800           4560          1   \n",
       "21273    98133  47.7384 -122.348              1970          18110          0   \n",
       "\n",
       "       total_area  yr_sold  house_age  \n",
       "1233         2334     2014         -1  \n",
       "3109         2610     2014         -1  \n",
       "10530        7435     2014         -1  \n",
       "11734        6710     2014         -1  \n",
       "11744        2304     2014         -1  \n",
       "12509        9131     2014         -1  \n",
       "13333       11820     2014         -1  \n",
       "16360        2839     2014         -1  \n",
       "17202        4980     2014         -1  \n",
       "17763        2459     2014         -1  \n",
       "20604        8290     2014         -1  \n",
       "21273       12230     2014         -1  \n",
       "\n",
       "[12 rows x 25 columns]"
      ]
     },
     "execution_count": 560,
     "metadata": {},
     "output_type": "execute_result"
    }
   ],
   "source": [
    "house_df.loc[house_df.house_age < 0]\n",
    "# Here we found out that House_age is negative in 12 entries. we need to fix this."
   ]
  },
  {
   "cell_type": "code",
   "execution_count": 561,
   "metadata": {},
   "outputs": [],
   "source": [
    "house_df['house_age']=house_df['house_age'].abs()"
   ]
  },
  {
   "cell_type": "code",
   "execution_count": 562,
   "metadata": {
    "scrolled": true
   },
   "outputs": [
    {
     "data": {
      "text/html": [
       "<div>\n",
       "<style scoped>\n",
       "    .dataframe tbody tr th:only-of-type {\n",
       "        vertical-align: middle;\n",
       "    }\n",
       "\n",
       "    .dataframe tbody tr th {\n",
       "        vertical-align: top;\n",
       "    }\n",
       "\n",
       "    .dataframe thead th {\n",
       "        text-align: right;\n",
       "    }\n",
       "</style>\n",
       "<table border=\"1\" class=\"dataframe\">\n",
       "  <thead>\n",
       "    <tr style=\"text-align: right;\">\n",
       "      <th></th>\n",
       "      <th>cid</th>\n",
       "      <th>dayhours</th>\n",
       "      <th>price</th>\n",
       "      <th>room_bed</th>\n",
       "      <th>room_bath</th>\n",
       "      <th>living_measure</th>\n",
       "      <th>lot_measure</th>\n",
       "      <th>ceil</th>\n",
       "      <th>coast</th>\n",
       "      <th>sight</th>\n",
       "      <th>...</th>\n",
       "      <th>yr_renovated</th>\n",
       "      <th>zipcode</th>\n",
       "      <th>lat</th>\n",
       "      <th>long</th>\n",
       "      <th>living_measure15</th>\n",
       "      <th>lot_measure15</th>\n",
       "      <th>furnished</th>\n",
       "      <th>total_area</th>\n",
       "      <th>yr_sold</th>\n",
       "      <th>house_age</th>\n",
       "    </tr>\n",
       "  </thead>\n",
       "  <tbody>\n",
       "  </tbody>\n",
       "</table>\n",
       "<p>0 rows × 25 columns</p>\n",
       "</div>"
      ],
      "text/plain": [
       "Empty DataFrame\n",
       "Columns: [cid, dayhours, price, room_bed, room_bath, living_measure, lot_measure, ceil, coast, sight, condition, quality, ceil_measure, basement, yr_built, yr_renovated, zipcode, lat, long, living_measure15, lot_measure15, furnished, total_area, yr_sold, house_age]\n",
       "Index: []\n",
       "\n",
       "[0 rows x 25 columns]"
      ]
     },
     "execution_count": 562,
     "metadata": {},
     "output_type": "execute_result"
    }
   ],
   "source": [
    "#cross check to know wheather the negative values are replaced with absolute values.\n",
    "house_df.loc[house_df.house_age < 0]\n",
    "# Wecan see that there are no negative values."
   ]
  },
  {
   "cell_type": "code",
   "execution_count": 563,
   "metadata": {},
   "outputs": [],
   "source": [
    "#converting some of the variables into categorical type\n",
    "house_df['ceil'] = house_df.ceil.astype('category')\n",
    "house_df['coast'] = house_df.coast.astype('category')\n",
    "house_df['sight'] = house_df.sight.astype('category')\n",
    "house_df['condition'] = house_df.condition.astype('category')\n",
    "house_df['quality'] = house_df.quality.astype('category')\n",
    "house_df['furnished'] = house_df.furnished.astype('category')"
   ]
  },
  {
   "cell_type": "markdown",
   "metadata": {},
   "source": [
    "## Handling outliers :"
   ]
  },
  {
   "cell_type": "code",
   "execution_count": 565,
   "metadata": {},
   "outputs": [
    {
     "data": {
      "image/png": "[encoded data removed]",
      "text/plain": [
       "<Figure size 1080x576 with 8 Axes>"
      ]
     },
     "metadata": {
      "needs_background": "light"
     },
     "output_type": "display_data"
    }
   ],
   "source": [
    "plt.figure(figsize=(15,8))\n",
    "plt.subplot(4,2,1)\n",
    "sns.boxplot(house_df['room_bed'])\n",
    "\n",
    "plt.subplot(4,2,2)\n",
    "sns.boxplot(house_df['room_bath'])\n",
    "\n",
    "plt.subplot(4,2,3)\n",
    "sns.boxplot(house_df['living_measure'])\n",
    "\n",
    "plt.subplot(4,2,4)\n",
    "sns.boxplot(house_df['lot_measure'])\n",
    "\n",
    "plt.subplot(4,2,5)\n",
    "sns.boxplot(house_df['basement'])\n",
    "\n",
    "plt.subplot(4,2,6)\n",
    "sns.boxplot(house_df['ceil_measure'])\n",
    "\n",
    "plt.subplot(4,2,7)\n",
    "sns.boxplot(house_df['living_measure15'])\n",
    "\n",
    "plt.subplot(4,2,8)\n",
    "sns.boxplot(house_df['total_area'])\n",
    "plt.tight_layout()\n",
    "\n"
   ]
  },
  {
   "cell_type": "markdown",
   "metadata": {},
   "source": [
    "\n",
    "####  By looking at the below boxplots we can infer that all attributes 'room_bed' 'room_bath' 'living_measure' , 'lot_measure' 'basement' 'ceil_measure' 'living_measure15' 'total_area' have outliers. But variation in the values of these attributes is expected; because not all houses will be similar to each other. By looking at the below boxplots we can infer that all attributes 'room_bed' 'room_bath' 'living_measure' 'lot_measure' 'basement' 'ceil_measure' 'living_measure15' 'total_area' have outliers. But variation in the values of these attributes is expected; because not all houses will be similar to each other."
   ]
  },
  {
   "cell_type": "code",
   "execution_count": 566,
   "metadata": {},
   "outputs": [],
   "source": [
    "def fixOutlier (col):\n",
    "    Q1 = col.quantile(0.25)\n",
    "    Q3 = col.quantile(0.75)\n",
    "    IQR = Q3 - Q1\n",
    "    max_value = Q3+(1.5*IQR)\n",
    "    min_value = Q1-(1.5*IQR) \n",
    "    house_df.loc[(col < min_value) | (col > max_value), col.name] = col.median()\n",
    "    \n",
    "\n",
    "fixOutlier (house_df.room_bed)\n",
    "fixOutlier (house_df.room_bath)\n",
    "fixOutlier (house_df.living_measure)\n",
    "fixOutlier (house_df.living_measure15)\n",
    "fixOutlier (house_df.lot_measure)\n",
    "fixOutlier (house_df.lot_measure15)\n",
    "fixOutlier (house_df.basement)\n",
    "fixOutlier (house_df.ceil_measure)\n",
    "fixOutlier (house_df.total_area)"
   ]
  },
  {
   "cell_type": "code",
   "execution_count": 567,
   "metadata": {},
   "outputs": [
    {
     "data": {
      "image/png": "[encoded data removed]",
      "text/plain": [
       "<Figure size 1080x576 with 8 Axes>"
      ]
     },
     "metadata": {
      "needs_background": "light"
     },
     "output_type": "display_data"
    }
   ],
   "source": [
    "#Plots after removing outliers\n",
    "plt.figure(figsize=(15,8))\n",
    "plt.subplot(4,2,1)\n",
    "sns.boxplot(house_df['room_bed'])\n",
    "\n",
    "plt.subplot(4,2,2)\n",
    "sns.boxplot(house_df['room_bath'])\n",
    "\n",
    "plt.subplot(4,2,3)\n",
    "sns.boxplot(house_df['living_measure'])\n",
    "\n",
    "plt.subplot(4,2,4)\n",
    "sns.boxplot(house_df['lot_measure'])\n",
    "\n",
    "plt.subplot(4,2,5)\n",
    "sns.boxplot(house_df['basement'])\n",
    "\n",
    "plt.subplot(4,2,6)\n",
    "sns.boxplot(house_df['ceil_measure'])\n",
    "\n",
    "plt.subplot(4,2,7)\n",
    "sns.boxplot(house_df['living_measure15'])\n",
    "\n",
    "plt.subplot(4,2,8)\n",
    "sns.boxplot(house_df['total_area'])\n",
    "plt.tight_layout()\n"
   ]
  },
  {
   "cell_type": "code",
   "execution_count": 568,
   "metadata": {},
   "outputs": [
    {
     "data": {
      "image/png": "[encoded data removed]",
      "text/plain": [
       "<Figure size 1080x576 with 8 Axes>"
      ]
     },
     "metadata": {
      "needs_background": "light"
     },
     "output_type": "display_data"
    }
   ],
   "source": [
    "plt.figure(figsize=(15,8))\n",
    "\n",
    "plt.subplot(4,2,1)\n",
    "sns.distplot(house_df['room_bed'])\n",
    "\n",
    "plt.subplot(4,2,2)\n",
    "sns.distplot(house_df['room_bath'])\n",
    "\n",
    "plt.subplot(4,2,3)\n",
    "sns.distplot(house_df['living_measure'])\n",
    "\n",
    "plt.subplot(4,2,4)\n",
    "sns.distplot(house_df['lot_measure'])\n",
    "\n",
    "plt.subplot(4,2,5)\n",
    "sns.distplot(house_df['basement'])\n",
    "\n",
    "plt.subplot(4,2,6)\n",
    "sns.distplot(house_df['ceil_measure'])\n",
    "\n",
    "plt.subplot(4,2,7)\n",
    "sns.distplot(house_df['living_measure15'])\n",
    "\n",
    "plt.subplot(4,2,8)\n",
    "sns.distplot(house_df['total_area'])\n",
    "plt.tight_layout()\n",
    "\n",
    "#By looking at the below distribution plot we can say that 'room_bed' and 'room_bath' have few groups/clusters. \n",
    "#'living_measure','ceil_measure' and 'living_measure15' are normally distibuted but slighltly skewed to right.\n",
    "# 'basement' and 'total_area' is not normally distributed and are heavily skewed."
   ]
  },
  {
   "cell_type": "markdown",
   "metadata": {},
   "source": [
    "# Exploratory Data Analysis - Visualizations"
   ]
  },
  {
   "cell_type": "code",
   "execution_count": 569,
   "metadata": {},
   "outputs": [
    {
     "data": {
      "image/png": "[encoded data removed]",
      "text/plain": [
       "<Figure size 1008x1008 with 2 Axes>"
      ]
     },
     "metadata": {
      "needs_background": "light"
     },
     "output_type": "display_data"
    }
   ],
   "source": [
    "#HEATMAP FOR CORRELATION ANALYSIS\n",
    "plt.figure(figsize=(14,14))\n",
    "sns.heatmap(house_df.corr(),annot=True,cmap=\"YlGnBu\")\n",
    "plt.savefig('heatmap.png')"
   ]
  },
  {
   "cell_type": "markdown",
   "metadata": {},
   "source": [
    "\n",
    "By looking at the above heatmap we can infer that :- 'price' is moderately correlated to attributes 'furninshed','living_measure15', 'ceil_measure','quality','living_measure', and 'room_bath'. 'lot_measure' and 'total_area' are completely correlated. similarly 'ceil_measure' and 'living_measure' are highly correlated one another."
   ]
  },
  {
   "cell_type": "markdown",
   "metadata": {},
   "source": [
    "### PLOT BETWEEN NUMBER OF BED ROOMS AND PRICE"
   ]
  },
  {
   "cell_type": "code",
   "execution_count": 570,
   "metadata": {},
   "outputs": [
    {
     "data": {
      "text/plain": [
       "Text(0.5, 1.0, ' BARPLOT BETWEEN NUMBER OF BEDROOMS AND PRICES')"
      ]
     },
     "execution_count": 570,
     "metadata": {},
     "output_type": "execute_result"
    },
    {
     "data": {
      "image/png": "[encoded data removed]",
      "text/plain": [
       "<Figure size 864x360 with 1 Axes>"
      ]
     },
     "metadata": {
      "needs_background": "light"
     },
     "output_type": "display_data"
    }
   ],
   "source": [
    "\n",
    "plt.figure(figsize=(12,5))\n",
    "sns.barplot(x='room_bed',y='price',data=house_df)\n",
    "plt.title(\" BARPLOT BETWEEN NUMBER OF BEDROOMS AND PRICES\")"
   ]
  },
  {
   "cell_type": "markdown",
   "metadata": {},
   "source": [
    "\n",
    "\n",
    "#Prices increases as the number of bed rooms increase."
   ]
  },
  {
   "cell_type": "markdown",
   "metadata": {},
   "source": [
    "### PLOT BETWEEN NUMBER OF BATHROOMS AND PRICE"
   ]
  },
  {
   "cell_type": "code",
   "execution_count": 571,
   "metadata": {},
   "outputs": [
    {
     "data": {
      "text/plain": [
       "Text(0.5, 1.0, ' BARPLOT BETWEEN NUMBER OF BATHROOMS AND PRICES')"
      ]
     },
     "execution_count": 571,
     "metadata": {},
     "output_type": "execute_result"
    },
    {
     "data": {
      "image/png": "[encoded data removed]",
      "text/plain": [
       "<Figure size 864x360 with 1 Axes>"
      ]
     },
     "metadata": {
      "needs_background": "light"
     },
     "output_type": "display_data"
    }
   ],
   "source": [
    "plt.figure(figsize=(12,5))\n",
    "sns.barplot(x='room_bath',y='price',data=house_df)\n",
    "plt.xticks(rotation = 90)\n",
    "plt.title(\" BARPLOT BETWEEN NUMBER OF BATHROOMS AND PRICES\")"
   ]
  },
  {
   "cell_type": "markdown",
   "metadata": {},
   "source": [
    "#Prices increase as the number of bath rooms increase."
   ]
  },
  {
   "cell_type": "markdown",
   "metadata": {},
   "source": [
    "\n",
    "### PLOT BETWEEN LIVING MEASURE AND PRICE"
   ]
  },
  {
   "cell_type": "code",
   "execution_count": 572,
   "metadata": {},
   "outputs": [
    {
     "data": {
      "text/plain": [
       "<seaborn.axisgrid.JointGrid at 0x32a54668>"
      ]
     },
     "execution_count": 572,
     "metadata": {},
     "output_type": "execute_result"
    },
    {
     "data": {
      "image/png": "[encoded data removed]",
      "text/plain": [
       "<Figure size 432x432 with 3 Axes>"
      ]
     },
     "metadata": {
      "needs_background": "light"
     },
     "output_type": "display_data"
    }
   ],
   "source": [
    "sns.jointplot(x='living_measure',y='price',data=house_df)"
   ]
  },
  {
   "cell_type": "markdown",
   "metadata": {},
   "source": [
    "#There is a linear increase between living area measure and price."
   ]
  },
  {
   "cell_type": "markdown",
   "metadata": {},
   "source": [
    "### PLOT BETWEEN NUMBER OF CEIL AND PRICE"
   ]
  },
  {
   "cell_type": "code",
   "execution_count": 573,
   "metadata": {},
   "outputs": [
    {
     "data": {
      "text/plain": [
       "<seaborn.axisgrid.FacetGrid at 0x12f610b8>"
      ]
     },
     "execution_count": 573,
     "metadata": {},
     "output_type": "execute_result"
    },
    {
     "data": {
      "image/png": "[encoded data removed]",
      "text/plain": [
       "<Figure size 360x360 with 1 Axes>"
      ]
     },
     "metadata": {
      "needs_background": "light"
     },
     "output_type": "display_data"
    }
   ],
   "source": [
    "sns.catplot(x=\"ceil\", y=\"price\", data=house_df)"
   ]
  },
  {
   "cell_type": "markdown",
   "metadata": {},
   "source": [
    "#Prices of 2 celing hosuse is more."
   ]
  },
  {
   "cell_type": "markdown",
   "metadata": {},
   "source": [
    "### PLOT BETWEEN COAST FACING AND PRICE"
   ]
  },
  {
   "cell_type": "code",
   "execution_count": 574,
   "metadata": {},
   "outputs": [
    {
     "data": {
      "text/plain": [
       "<seaborn.axisgrid.FacetGrid at 0x367c36d8>"
      ]
     },
     "execution_count": 574,
     "metadata": {},
     "output_type": "execute_result"
    },
    {
     "data": {
      "image/png": "[encoded data removed]",
      "text/plain": [
       "<Figure size 360x360 with 1 Axes>"
      ]
     },
     "metadata": {
      "needs_background": "light"
     },
     "output_type": "display_data"
    }
   ],
   "source": [
    "sns.catplot(x=\"coast\", y=\"price\", data=house_df)"
   ]
  },
  {
   "cell_type": "markdown",
   "metadata": {},
   "source": [
    "\n",
    "This plot tells us that number of houses with no 'Coast'(without the view of waterfront) is much higher than houses with 'coast'. price of house with 'coast' is little higher."
   ]
  },
  {
   "cell_type": "markdown",
   "metadata": {},
   "source": [
    "### PLOT BETWEEN CONDITION OF THE HOUSE AND PRICE"
   ]
  },
  {
   "cell_type": "code",
   "execution_count": 575,
   "metadata": {},
   "outputs": [
    {
     "data": {
      "text/plain": [
       "Text(0.5, 1.0, 'BARPLOT OF CONDITION VERSUS PRICE')"
      ]
     },
     "execution_count": 575,
     "metadata": {},
     "output_type": "execute_result"
    },
    {
     "data": {
      "image/png": "[encoded data removed]",
      "text/plain": [
       "<Figure size 432x288 with 1 Axes>"
      ]
     },
     "metadata": {
      "needs_background": "light"
     },
     "output_type": "display_data"
    }
   ],
   "source": [
    "sns.barplot(x='condition',y='price',data=house_df)\n",
    "plt.title(\"BARPLOT OF CONDITION VERSUS PRICE\")"
   ]
  },
  {
   "cell_type": "markdown",
   "metadata": {},
   "source": [
    "#Prices of the houses will be more if the condition of the house is good."
   ]
  },
  {
   "cell_type": "markdown",
   "metadata": {},
   "source": [
    "### PLOT BETWEEN QUALITY AND PRICE"
   ]
  },
  {
   "cell_type": "code",
   "execution_count": 576,
   "metadata": {},
   "outputs": [
    {
     "data": {
      "text/plain": [
       "<seaborn.axisgrid.FacetGrid at 0x36662198>"
      ]
     },
     "execution_count": 576,
     "metadata": {},
     "output_type": "execute_result"
    },
    {
     "data": {
      "image/png": "[encoded data removed]",
      "text/plain": [
       "<Figure size 360x360 with 1 Axes>"
      ]
     },
     "metadata": {
      "needs_background": "light"
     },
     "output_type": "display_data"
    }
   ],
   "source": [
    "sns.catplot(x=\"quality\", y=\"price\", data=house_df)"
   ]
  },
  {
   "cell_type": "markdown",
   "metadata": {},
   "source": [
    "Higher the grading to the house greater is the price."
   ]
  },
  {
   "cell_type": "markdown",
   "metadata": {},
   "source": [
    "### PLOT BETWEEN FURNISHED AND PRICE"
   ]
  },
  {
   "cell_type": "code",
   "execution_count": 577,
   "metadata": {},
   "outputs": [
    {
     "data": {
      "text/plain": [
       "<seaborn.axisgrid.FacetGrid at 0x3dbc9518>"
      ]
     },
     "execution_count": 577,
     "metadata": {},
     "output_type": "execute_result"
    },
    {
     "data": {
      "image/png": "[encoded data removed]",
      "text/plain": [
       "<Figure size 360x360 with 1 Axes>"
      ]
     },
     "metadata": {
      "needs_background": "light"
     },
     "output_type": "display_data"
    }
   ],
   "source": [
    "sns.catplot(x=\"furnished\", y=\"price\", data=house_df)"
   ]
  },
  {
   "cell_type": "markdown",
   "metadata": {},
   "source": [
    "Furnished houses fetch more price than non-furnished."
   ]
  },
  {
   "cell_type": "markdown",
   "metadata": {},
   "source": [
    "### PLOT OF LONGITUDE & LATITUDE wrt PRICE"
   ]
  },
  {
   "cell_type": "code",
   "execution_count": 578,
   "metadata": {},
   "outputs": [
    {
     "data": {
      "text/plain": [
       "<seaborn.axisgrid.FacetGrid at 0x36a4b5c0>"
      ]
     },
     "execution_count": 578,
     "metadata": {},
     "output_type": "execute_result"
    },
    {
     "data": {
      "image/png": "[encoded data removed]",
      "text/plain": [
       "<Figure size 498.25x360 with 1 Axes>"
      ]
     },
     "metadata": {
      "needs_background": "light"
     },
     "output_type": "display_data"
    }
   ],
   "source": [
    "house_df['price_bin'] = pd.cut(house_df.price, bins=[75000,1075000,2075000,3075000,4075000,5075000,6075000,7075000])\n",
    "sns.lmplot(y='lat',x='long', data=house_df, hue='price_bin', fit_reg=False)"
   ]
  },
  {
   "cell_type": "markdown",
   "metadata": {},
   "source": [
    "## Binning the attributes:"
   ]
  },
  {
   "cell_type": "code",
   "execution_count": 579,
   "metadata": {},
   "outputs": [
    {
     "name": "stdout",
     "output_type": "stream",
     "text": [
      "condition :-\n",
      "[1, 2, 3, 4, 5]\n",
      "Categories (5, int64): [1, 2, 3, 4, 5]\n",
      "Quality :-\n",
      "[1, 3, 4, 5, 6, ..., 9, 10, 11, 12, 13]\n",
      "Length: 12\n",
      "Categories (12, int64): [1, 3, 4, 5, ..., 10, 11, 12, 13]\n",
      "Bed Room :-\n",
      "[2. 3. 4. 5.]\n",
      "Bath Room :-\n",
      "[0.75 1.   1.25 1.5  1.75 2.   2.25 2.5  2.75 3.   3.25 3.5 ]\n",
      "Ceil :-\n",
      "[1.0, 1.5, 2.0, 2.5, 3.0, 3.5]\n",
      "Categories (6, float64): [1.0, 1.5, 2.0, 2.5, 3.0, 3.5]\n",
      "Sight :-\n",
      "[0, 1, 2, 3, 4]\n",
      "Categories (5, int64): [0, 1, 2, 3, 4]\n",
      "Year Built:-\n",
      "[1900 1901 1902 1903 1904 1905 1906 1907 1908 1909 1910 1911 1912 1913\n",
      " 1914 1915 1916 1917 1918 1919 1920 1921 1922 1923 1924 1925 1926 1927\n",
      " 1928 1929 1930 1931 1932 1933 1934 1935 1936 1937 1938 1939 1940 1941\n",
      " 1942 1943 1944 1945 1946 1947 1948 1949 1950 1951 1952 1953 1954 1955\n",
      " 1956 1957 1958 1959 1960 1961 1962 1963 1964 1965 1966 1967 1968 1969\n",
      " 1970 1971 1972 1973 1974 1975 1976 1977 1978 1979 1980 1981 1982 1983\n",
      " 1984 1985 1986 1987 1988 1989 1990 1991 1992 1993 1994 1995 1996 1997\n",
      " 1998 1999 2000 2001 2002 2003 2004 2005 2006 2007 2008 2009 2010 2011\n",
      " 2012 2013 2014 2015]\n",
      "Year Renovated :-\n",
      "[   0 1934 1940 1944 1945 1946 1948 1950 1951 1953 1954 1955 1956 1957\n",
      " 1958 1959 1960 1962 1963 1964 1965 1967 1968 1969 1970 1971 1972 1973\n",
      " 1974 1975 1976 1977 1978 1979 1980 1981 1982 1983 1984 1985 1986 1987\n",
      " 1988 1989 1990 1991 1992 1993 1994 1995 1996 1997 1998 1999 2000 2001\n",
      " 2002 2003 2004 2005 2006 2007 2008 2009 2010 2011 2012 2013 2014 2015]\n",
      "house Age :-\n",
      "[  0   1   2   3   4   5   6   7   8   9  10  11  12  13  14  15  16  17\n",
      "  18  19  20  21  22  23  24  25  26  27  28  29  30  31  32  33  34  35\n",
      "  36  37  38  39  40  41  42  43  44  45  46  47  48  49  50  51  52  53\n",
      "  54  55  56  57  58  59  60  61  62  63  64  65  66  67  68  69  70  71\n",
      "  72  73  74  75  76  77  78  79  80  81  82  83  84  85  86  87  88  89\n",
      "  90  91  92  93  94  95  96  97  98  99 100 101 102 103 104 105 106 107\n",
      " 108 109 110 111 112 113 114 115]\n"
     ]
    }
   ],
   "source": [
    "# First lets see unique values of following attributes which will give brief idea about how we can group them.\n",
    "print('condition :-')\n",
    "print (house_df['condition'].sort_values().unique())\n",
    "\n",
    "print('Quality :-')\n",
    "print (house_df['quality'].sort_values().unique())\n",
    "\n",
    "print('Bed Room :-')\n",
    "print (house_df['room_bed'].sort_values().unique())\n",
    "\n",
    "print('Bath Room :-')\n",
    "print (house_df['room_bath'].sort_values().unique())\n",
    "\n",
    "print('Ceil :-')\n",
    "print (house_df['ceil'].sort_values().unique())\n",
    "\n",
    "print('Sight :-')\n",
    "print (house_df['sight'].sort_values().unique())\n",
    "\n",
    "print('Year Built:-')\n",
    "print (house_df['yr_built'].sort_values().unique())\n",
    "\n",
    "print('Year Renovated :-')\n",
    "print (house_df['yr_renovated'].sort_values().unique())\n",
    "\n",
    "print('house Age :-')\n",
    "print (house_df['house_age'].sort_values().unique())"
   ]
  },
  {
   "cell_type": "markdown",
   "metadata": {},
   "source": [
    "### Binning  'condition' :"
   ]
  },
  {
   "cell_type": "code",
   "execution_count": 580,
   "metadata": {},
   "outputs": [
    {
     "data": {
      "text/html": [
       "<div>\n",
       "<style scoped>\n",
       "    .dataframe tbody tr th:only-of-type {\n",
       "        vertical-align: middle;\n",
       "    }\n",
       "\n",
       "    .dataframe tbody tr th {\n",
       "        vertical-align: top;\n",
       "    }\n",
       "\n",
       "    .dataframe thead th {\n",
       "        text-align: right;\n",
       "    }\n",
       "</style>\n",
       "<table border=\"1\" class=\"dataframe\">\n",
       "  <thead>\n",
       "    <tr style=\"text-align: right;\">\n",
       "      <th></th>\n",
       "      <th>condition</th>\n",
       "      <th>condition_bin</th>\n",
       "    </tr>\n",
       "  </thead>\n",
       "  <tbody>\n",
       "    <tr>\n",
       "      <th>0</th>\n",
       "      <td>5</td>\n",
       "      <td>Good</td>\n",
       "    </tr>\n",
       "    <tr>\n",
       "      <th>1</th>\n",
       "      <td>3</td>\n",
       "      <td>Medium</td>\n",
       "    </tr>\n",
       "    <tr>\n",
       "      <th>2</th>\n",
       "      <td>3</td>\n",
       "      <td>Medium</td>\n",
       "    </tr>\n",
       "    <tr>\n",
       "      <th>3</th>\n",
       "      <td>4</td>\n",
       "      <td>Medium</td>\n",
       "    </tr>\n",
       "    <tr>\n",
       "      <th>4</th>\n",
       "      <td>4</td>\n",
       "      <td>Medium</td>\n",
       "    </tr>\n",
       "  </tbody>\n",
       "</table>\n",
       "</div>"
      ],
      "text/plain": [
       "  condition condition_bin\n",
       "0         5          Good\n",
       "1         3        Medium\n",
       "2         3        Medium\n",
       "3         4        Medium\n",
       "4         4        Medium"
      ]
     },
     "execution_count": 580,
     "metadata": {},
     "output_type": "execute_result"
    }
   ],
   "source": [
    "house_df['condition_bin']=pd.cut(house_df.condition,bins=(1,3,5,6),labels=['Bad','Medium','Good'],right=False)\n",
    "house_df[['condition','condition_bin']].head()"
   ]
  },
  {
   "cell_type": "code",
   "execution_count": 581,
   "metadata": {},
   "outputs": [
    {
     "data": {
      "text/plain": [
       "Text(0.5, 1.0, 'Plot against price')"
      ]
     },
     "execution_count": 581,
     "metadata": {},
     "output_type": "execute_result"
    },
    {
     "data": {
      "image/png": "[encoded data removed]",
      "text/plain": [
       "<Figure size 1440x360 with 2 Axes>"
      ]
     },
     "metadata": {
      "needs_background": "light"
     },
     "output_type": "display_data"
    }
   ],
   "source": [
    "fig,(ax1,ax2) = plt.subplots(nrows=1,ncols=2, figsize=(20,5))\n",
    "sns.countplot(x='condition_bin',data=house_df,ax=ax1)\n",
    "ax1.set_title(\"Count Plot\")\n",
    "sns.barplot(x='condition_bin',y='price',data=house_df,ax=ax2)\n",
    "ax2.set_title(\"Plot against price\")"
   ]
  },
  {
   "cell_type": "markdown",
   "metadata": {},
   "source": [
    "#### * Here grouping is done for 'condition': (1 & 2)=Good,  (3 & 4)=Medium,  (5)=Good.  \n",
    "#### * Number of houses with 'medium' level of condition arein huge number.\n",
    "#### * Price of houses with 'Good' level of condition is higher than others."
   ]
  },
  {
   "cell_type": "markdown",
   "metadata": {},
   "source": [
    "### Binning 'quality' :"
   ]
  },
  {
   "cell_type": "code",
   "execution_count": 582,
   "metadata": {},
   "outputs": [
    {
     "data": {
      "text/html": [
       "<div>\n",
       "<style scoped>\n",
       "    .dataframe tbody tr th:only-of-type {\n",
       "        vertical-align: middle;\n",
       "    }\n",
       "\n",
       "    .dataframe tbody tr th {\n",
       "        vertical-align: top;\n",
       "    }\n",
       "\n",
       "    .dataframe thead th {\n",
       "        text-align: right;\n",
       "    }\n",
       "</style>\n",
       "<table border=\"1\" class=\"dataframe\">\n",
       "  <thead>\n",
       "    <tr style=\"text-align: right;\">\n",
       "      <th></th>\n",
       "      <th>quality</th>\n",
       "      <th>quality_bin</th>\n",
       "    </tr>\n",
       "  </thead>\n",
       "  <tbody>\n",
       "    <tr>\n",
       "      <th>0</th>\n",
       "      <td>9</td>\n",
       "      <td>Medium</td>\n",
       "    </tr>\n",
       "    <tr>\n",
       "      <th>1</th>\n",
       "      <td>8</td>\n",
       "      <td>Medium</td>\n",
       "    </tr>\n",
       "    <tr>\n",
       "      <th>2</th>\n",
       "      <td>8</td>\n",
       "      <td>Medium</td>\n",
       "    </tr>\n",
       "    <tr>\n",
       "      <th>3</th>\n",
       "      <td>6</td>\n",
       "      <td>Bad</td>\n",
       "    </tr>\n",
       "    <tr>\n",
       "      <th>4</th>\n",
       "      <td>8</td>\n",
       "      <td>Medium</td>\n",
       "    </tr>\n",
       "  </tbody>\n",
       "</table>\n",
       "</div>"
      ],
      "text/plain": [
       "  quality quality_bin\n",
       "0       9      Medium\n",
       "1       8      Medium\n",
       "2       8      Medium\n",
       "3       6         Bad\n",
       "4       8      Medium"
      ]
     },
     "execution_count": 582,
     "metadata": {},
     "output_type": "execute_result"
    }
   ],
   "source": [
    "house_df['quality_bin']=pd.cut(house_df.quality,bins=(1,7,10,13),labels=['Bad','Medium','Good'],right=False)\n",
    "house_df[['quality','quality_bin']].head()"
   ]
  },
  {
   "cell_type": "code",
   "execution_count": 583,
   "metadata": {},
   "outputs": [
    {
     "data": {
      "text/plain": [
       "Text(0.5, 1.0, 'Plot against price')"
      ]
     },
     "execution_count": 583,
     "metadata": {},
     "output_type": "execute_result"
    },
    {
     "data": {
      "image/png": "[encoded data removed]",
      "text/plain": [
       "<Figure size 1440x360 with 2 Axes>"
      ]
     },
     "metadata": {
      "needs_background": "light"
     },
     "output_type": "display_data"
    }
   ],
   "source": [
    "fig,(ax1,ax2) = plt.subplots(nrows=1,ncols=2, figsize=(20,5))\n",
    "sns.countplot(x='quality_bin',data=house_df,ax=ax1)\n",
    "ax1.set_title(\"Count Plot\")\n",
    "sns.barplot(x='quality_bin',y='price',data=house_df,ax=ax2)\n",
    "ax2.set_title(\"Plot against price\")"
   ]
  },
  {
   "cell_type": "markdown",
   "metadata": {},
   "source": [
    "#### * Here grouping is done for 'quality': (1 to 6)=Good,  (7 to 9)=Medium,  (10 to 12)=Good.  \n",
    "#### * Number of houses with 'medium' level of quality are in huge number.\n",
    "#### * Price of houses with 'Good' quality is higher than others."
   ]
  },
  {
   "cell_type": "markdown",
   "metadata": {},
   "source": [
    "\n",
    "### Binning 'room_bed' :"
   ]
  },
  {
   "cell_type": "code",
   "execution_count": 584,
   "metadata": {},
   "outputs": [
    {
     "data": {
      "text/html": [
       "<div>\n",
       "<style scoped>\n",
       "    .dataframe tbody tr th:only-of-type {\n",
       "        vertical-align: middle;\n",
       "    }\n",
       "\n",
       "    .dataframe tbody tr th {\n",
       "        vertical-align: top;\n",
       "    }\n",
       "\n",
       "    .dataframe thead th {\n",
       "        text-align: right;\n",
       "    }\n",
       "</style>\n",
       "<table border=\"1\" class=\"dataframe\">\n",
       "  <thead>\n",
       "    <tr style=\"text-align: right;\">\n",
       "      <th></th>\n",
       "      <th>room_bed</th>\n",
       "      <th>room_bed_bin</th>\n",
       "    </tr>\n",
       "  </thead>\n",
       "  <tbody>\n",
       "    <tr>\n",
       "      <th>0</th>\n",
       "      <td>4.0</td>\n",
       "      <td>Medium</td>\n",
       "    </tr>\n",
       "    <tr>\n",
       "      <th>1</th>\n",
       "      <td>4.0</td>\n",
       "      <td>Medium</td>\n",
       "    </tr>\n",
       "    <tr>\n",
       "      <th>2</th>\n",
       "      <td>3.0</td>\n",
       "      <td>Medium</td>\n",
       "    </tr>\n",
       "    <tr>\n",
       "      <th>3</th>\n",
       "      <td>2.0</td>\n",
       "      <td>Samll</td>\n",
       "    </tr>\n",
       "    <tr>\n",
       "      <th>4</th>\n",
       "      <td>2.0</td>\n",
       "      <td>Samll</td>\n",
       "    </tr>\n",
       "  </tbody>\n",
       "</table>\n",
       "</div>"
      ],
      "text/plain": [
       "   room_bed room_bed_bin\n",
       "0       4.0       Medium\n",
       "1       4.0       Medium\n",
       "2       3.0       Medium\n",
       "3       2.0        Samll\n",
       "4       2.0        Samll"
      ]
     },
     "execution_count": 584,
     "metadata": {},
     "output_type": "execute_result"
    }
   ],
   "source": [
    "house_df['room_bed_bin']=pd.cut(house_df.room_bed,bins=(1,3,5,7),labels=['Samll','Medium','Large'],right=False)\n",
    "house_df[['room_bed','room_bed_bin']].head()"
   ]
  },
  {
   "cell_type": "code",
   "execution_count": 585,
   "metadata": {},
   "outputs": [
    {
     "data": {
      "text/plain": [
       "Text(0.5, 1.0, 'Plot against price')"
      ]
     },
     "execution_count": 585,
     "metadata": {},
     "output_type": "execute_result"
    },
    {
     "data": {
      "image/png": "[encoded data removed]",
      "text/plain": [
       "<Figure size 1440x360 with 2 Axes>"
      ]
     },
     "metadata": {
      "needs_background": "light"
     },
     "output_type": "display_data"
    }
   ],
   "source": [
    "fig,(ax1,ax2) = plt.subplots(nrows=1,ncols=2, figsize=(20,5))\n",
    "sns.countplot(x='room_bed_bin',data=house_df,ax=ax1)\n",
    "ax1.set_title(\"Count Plot\")\n",
    "sns.barplot(x='room_bed_bin',y='price',data=house_df,ax=ax2)\n",
    "ax2.set_title(\"Plot against price\")"
   ]
  },
  {
   "cell_type": "markdown",
   "metadata": {},
   "source": [
    "#### * Here grouping is done for 'room_bed': (1 to 2)=small,  (3 & 4)=Medium,  (5 =<)= Large.  \n",
    "#### * Number of houses with 'medium' or 3 to 4 number of bed rooms are in huge number.\n",
    "#### * Price of houses with 'Large' number of rooms is higher than others."
   ]
  },
  {
   "cell_type": "markdown",
   "metadata": {},
   "source": [
    "### Binning 'room_bath' :"
   ]
  },
  {
   "cell_type": "code",
   "execution_count": 586,
   "metadata": {},
   "outputs": [
    {
     "data": {
      "text/html": [
       "<div>\n",
       "<style scoped>\n",
       "    .dataframe tbody tr th:only-of-type {\n",
       "        vertical-align: middle;\n",
       "    }\n",
       "\n",
       "    .dataframe tbody tr th {\n",
       "        vertical-align: top;\n",
       "    }\n",
       "\n",
       "    .dataframe thead th {\n",
       "        text-align: right;\n",
       "    }\n",
       "</style>\n",
       "<table border=\"1\" class=\"dataframe\">\n",
       "  <thead>\n",
       "    <tr style=\"text-align: right;\">\n",
       "      <th></th>\n",
       "      <th>room_bath</th>\n",
       "      <th>room_bath_bin</th>\n",
       "    </tr>\n",
       "  </thead>\n",
       "  <tbody>\n",
       "    <tr>\n",
       "      <th>0</th>\n",
       "      <td>3.25</td>\n",
       "      <td>Bath_grp3</td>\n",
       "    </tr>\n",
       "    <tr>\n",
       "      <th>1</th>\n",
       "      <td>2.50</td>\n",
       "      <td>Bath_grp2</td>\n",
       "    </tr>\n",
       "    <tr>\n",
       "      <th>2</th>\n",
       "      <td>2.50</td>\n",
       "      <td>Bath_grp2</td>\n",
       "    </tr>\n",
       "    <tr>\n",
       "      <th>3</th>\n",
       "      <td>1.00</td>\n",
       "      <td>Bath_grp1</td>\n",
       "    </tr>\n",
       "    <tr>\n",
       "      <th>4</th>\n",
       "      <td>1.50</td>\n",
       "      <td>Bath_grp1</td>\n",
       "    </tr>\n",
       "  </tbody>\n",
       "</table>\n",
       "</div>"
      ],
      "text/plain": [
       "   room_bath room_bath_bin\n",
       "0       3.25     Bath_grp3\n",
       "1       2.50     Bath_grp2\n",
       "2       2.50     Bath_grp2\n",
       "3       1.00     Bath_grp1\n",
       "4       1.50     Bath_grp1"
      ]
     },
     "execution_count": 586,
     "metadata": {},
     "output_type": "execute_result"
    }
   ],
   "source": [
    "house_df['room_bath_bin']=pd.cut(house_df.room_bath,bins=(0,2,3,5),labels=['Bath_grp1','Bath_grp2','Bath_grp3'],right=False)\n",
    "house_df[['room_bath','room_bath_bin']].head()"
   ]
  },
  {
   "cell_type": "code",
   "execution_count": 587,
   "metadata": {},
   "outputs": [
    {
     "data": {
      "text/plain": [
       "Text(0.5, 1.0, 'Plot against price')"
      ]
     },
     "execution_count": 587,
     "metadata": {},
     "output_type": "execute_result"
    },
    {
     "data": {
      "image/png": "[encoded data removed]",
      "text/plain": [
       "<Figure size 1440x360 with 2 Axes>"
      ]
     },
     "metadata": {
      "needs_background": "light"
     },
     "output_type": "display_data"
    }
   ],
   "source": [
    "fig,(ax1,ax2) = plt.subplots(nrows=1,ncols=2, figsize=(20,5))\n",
    "sns.countplot(x='room_bath_bin',data=house_df,ax=ax1)\n",
    "ax1.set_title(\"Count Plot\")\n",
    "sns.barplot(x='room_bath_bin',y='price',data=house_df,ax=ax2)\n",
    "ax2.set_title(\"Plot against price\")"
   ]
  },
  {
   "cell_type": "markdown",
   "metadata": {},
   "source": [
    "#### * Here grouping is done for 'room_bath': (0 to 1)=bath_grp1,  (2 to 3)=bath_grp2,  (4 to 5)= bath_grp3.  \n",
    "#### * Number of houses with  '2 to 3' number of bath rooms more compared to others.\n",
    "#### * Price of houses with '4 to 5' number of rooms is higher than others."
   ]
  },
  {
   "cell_type": "markdown",
   "metadata": {},
   "source": [
    "### Binning 'ceil' :"
   ]
  },
  {
   "cell_type": "code",
   "execution_count": 588,
   "metadata": {},
   "outputs": [
    {
     "data": {
      "text/html": [
       "<div>\n",
       "<style scoped>\n",
       "    .dataframe tbody tr th:only-of-type {\n",
       "        vertical-align: middle;\n",
       "    }\n",
       "\n",
       "    .dataframe tbody tr th {\n",
       "        vertical-align: top;\n",
       "    }\n",
       "\n",
       "    .dataframe thead th {\n",
       "        text-align: right;\n",
       "    }\n",
       "</style>\n",
       "<table border=\"1\" class=\"dataframe\">\n",
       "  <thead>\n",
       "    <tr style=\"text-align: right;\">\n",
       "      <th></th>\n",
       "      <th>ceil</th>\n",
       "      <th>ceil_bin</th>\n",
       "    </tr>\n",
       "  </thead>\n",
       "  <tbody>\n",
       "    <tr>\n",
       "      <th>0</th>\n",
       "      <td>1.0</td>\n",
       "      <td>Floor_grp1</td>\n",
       "    </tr>\n",
       "    <tr>\n",
       "      <th>1</th>\n",
       "      <td>1.0</td>\n",
       "      <td>Floor_grp1</td>\n",
       "    </tr>\n",
       "    <tr>\n",
       "      <th>2</th>\n",
       "      <td>2.0</td>\n",
       "      <td>Floor_grp2</td>\n",
       "    </tr>\n",
       "    <tr>\n",
       "      <th>3</th>\n",
       "      <td>1.0</td>\n",
       "      <td>Floor_grp1</td>\n",
       "    </tr>\n",
       "    <tr>\n",
       "      <th>4</th>\n",
       "      <td>1.0</td>\n",
       "      <td>Floor_grp1</td>\n",
       "    </tr>\n",
       "  </tbody>\n",
       "</table>\n",
       "</div>"
      ],
      "text/plain": [
       "  ceil    ceil_bin\n",
       "0  1.0  Floor_grp1\n",
       "1  1.0  Floor_grp1\n",
       "2  2.0  Floor_grp2\n",
       "3  1.0  Floor_grp1\n",
       "4  1.0  Floor_grp1"
      ]
     },
     "execution_count": 588,
     "metadata": {},
     "output_type": "execute_result"
    }
   ],
   "source": [
    "house_df['ceil_bin']=pd.cut(house_df.ceil,bins=(0,2,3,4),labels=['Floor_grp1','Floor_grp2','Floor_grp3'],right=False)\n",
    "house_df[['ceil','ceil_bin']].head()"
   ]
  },
  {
   "cell_type": "code",
   "execution_count": 589,
   "metadata": {},
   "outputs": [
    {
     "data": {
      "text/plain": [
       "Text(0.5, 1.0, 'Plot against price')"
      ]
     },
     "execution_count": 589,
     "metadata": {},
     "output_type": "execute_result"
    },
    {
     "data": {
      "image/png": "[encoded data removed]",
      "text/plain": [
       "<Figure size 1440x360 with 2 Axes>"
      ]
     },
     "metadata": {
      "needs_background": "light"
     },
     "output_type": "display_data"
    }
   ],
   "source": [
    "fig,(ax1,ax2) = plt.subplots(nrows=1,ncols=2, figsize=(20,5))\n",
    "sns.countplot(x='ceil_bin',data=house_df,ax=ax1)\n",
    "ax1.set_title(\"Count Plot\")\n",
    "sns.barplot(x='ceil_bin',y='price',data=house_df,ax=ax2)\n",
    "ax2.set_title(\"Plot against price\")"
   ]
  },
  {
   "cell_type": "markdown",
   "metadata": {},
   "source": [
    "#### * Here grouping is done for 'ceil' : (0 to 1)=Floor_grp1,  (2 to 3)=Floor_grp2,  (3 to 4)= Floor_grp3.  \n",
    "#### * Number of houses with  '0 to 1' number of floors are more compared to others.\n",
    "#### * Price of houses with '2 to 3' number of rooms is higher than others."
   ]
  },
  {
   "cell_type": "markdown",
   "metadata": {},
   "source": [
    "### Binning 'sight' :"
   ]
  },
  {
   "cell_type": "code",
   "execution_count": 590,
   "metadata": {},
   "outputs": [
    {
     "data": {
      "text/html": [
       "<div>\n",
       "<style scoped>\n",
       "    .dataframe tbody tr th:only-of-type {\n",
       "        vertical-align: middle;\n",
       "    }\n",
       "\n",
       "    .dataframe tbody tr th {\n",
       "        vertical-align: top;\n",
       "    }\n",
       "\n",
       "    .dataframe thead th {\n",
       "        text-align: right;\n",
       "    }\n",
       "</style>\n",
       "<table border=\"1\" class=\"dataframe\">\n",
       "  <thead>\n",
       "    <tr style=\"text-align: right;\">\n",
       "      <th></th>\n",
       "      <th>sight</th>\n",
       "      <th>sight_bin</th>\n",
       "    </tr>\n",
       "  </thead>\n",
       "  <tbody>\n",
       "    <tr>\n",
       "      <th>0</th>\n",
       "      <td>0</td>\n",
       "      <td>Not Visited</td>\n",
       "    </tr>\n",
       "    <tr>\n",
       "      <th>1</th>\n",
       "      <td>0</td>\n",
       "      <td>Not Visited</td>\n",
       "    </tr>\n",
       "    <tr>\n",
       "      <th>2</th>\n",
       "      <td>0</td>\n",
       "      <td>Not Visited</td>\n",
       "    </tr>\n",
       "    <tr>\n",
       "      <th>3</th>\n",
       "      <td>0</td>\n",
       "      <td>Not Visited</td>\n",
       "    </tr>\n",
       "    <tr>\n",
       "      <th>4</th>\n",
       "      <td>0</td>\n",
       "      <td>Not Visited</td>\n",
       "    </tr>\n",
       "  </tbody>\n",
       "</table>\n",
       "</div>"
      ],
      "text/plain": [
       "  sight    sight_bin\n",
       "0     0  Not Visited\n",
       "1     0  Not Visited\n",
       "2     0  Not Visited\n",
       "3     0  Not Visited\n",
       "4     0  Not Visited"
      ]
     },
     "execution_count": 590,
     "metadata": {},
     "output_type": "execute_result"
    }
   ],
   "source": [
    "house_df['sight_bin']=pd.cut(house_df.sight,bins=(0,2,4,5),labels=['Not Visited','Few Visited','Many Visited'],right=False)\n",
    "house_df[['sight','sight_bin']].head()"
   ]
  },
  {
   "cell_type": "code",
   "execution_count": 591,
   "metadata": {},
   "outputs": [
    {
     "data": {
      "text/plain": [
       "Text(0.5, 1.0, 'Plot against price')"
      ]
     },
     "execution_count": 591,
     "metadata": {},
     "output_type": "execute_result"
    },
    {
     "data": {
      "image/png": "[encoded data removed]",
      "text/plain": [
       "<Figure size 1440x360 with 2 Axes>"
      ]
     },
     "metadata": {
      "needs_background": "light"
     },
     "output_type": "display_data"
    }
   ],
   "source": [
    "fig,(ax1,ax2) = plt.subplots(nrows=1,ncols=2, figsize=(20,5))\n",
    "sns.countplot(x='sight_bin',data=house_df,ax=ax1)\n",
    "ax1.set_title(\"Count Plot\")\n",
    "sns.barplot(x='sight_bin',y='price',data=house_df,ax=ax2)\n",
    "ax2.set_title(\"Plot against price\")"
   ]
  },
  {
   "cell_type": "markdown",
   "metadata": {},
   "source": [
    "#### * Here grouping is done for 'ceil' : (0 to 1)=Not Visited,  (2 to 3)=Few Visited,  (4 to 5)= many visited.  \n",
    "#### * Max number of houses are not visited.\n",
    "#### * Price of houses with many visitors are higherthan other houses."
   ]
  },
  {
   "cell_type": "markdown",
   "metadata": {},
   "source": [
    "### Binning 'year_built' :"
   ]
  },
  {
   "cell_type": "code",
   "execution_count": 592,
   "metadata": {},
   "outputs": [
    {
     "data": {
      "text/html": [
       "<div>\n",
       "<style scoped>\n",
       "    .dataframe tbody tr th:only-of-type {\n",
       "        vertical-align: middle;\n",
       "    }\n",
       "\n",
       "    .dataframe tbody tr th {\n",
       "        vertical-align: top;\n",
       "    }\n",
       "\n",
       "    .dataframe thead th {\n",
       "        text-align: right;\n",
       "    }\n",
       "</style>\n",
       "<table border=\"1\" class=\"dataframe\">\n",
       "  <thead>\n",
       "    <tr style=\"text-align: right;\">\n",
       "      <th></th>\n",
       "      <th>yr_built</th>\n",
       "      <th>yr_built_bin</th>\n",
       "    </tr>\n",
       "  </thead>\n",
       "  <tbody>\n",
       "    <tr>\n",
       "      <th>0</th>\n",
       "      <td>1956</td>\n",
       "      <td>1950s</td>\n",
       "    </tr>\n",
       "    <tr>\n",
       "      <th>1</th>\n",
       "      <td>1976</td>\n",
       "      <td>1975s</td>\n",
       "    </tr>\n",
       "    <tr>\n",
       "      <th>2</th>\n",
       "      <td>2006</td>\n",
       "      <td>2000s</td>\n",
       "    </tr>\n",
       "    <tr>\n",
       "      <th>3</th>\n",
       "      <td>1916</td>\n",
       "      <td>1900s</td>\n",
       "    </tr>\n",
       "    <tr>\n",
       "      <th>4</th>\n",
       "      <td>1954</td>\n",
       "      <td>1950s</td>\n",
       "    </tr>\n",
       "  </tbody>\n",
       "</table>\n",
       "</div>"
      ],
      "text/plain": [
       "   yr_built yr_built_bin\n",
       "0      1956        1950s\n",
       "1      1976        1975s\n",
       "2      2006        2000s\n",
       "3      1916        1900s\n",
       "4      1954        1950s"
      ]
     },
     "execution_count": 592,
     "metadata": {},
     "output_type": "execute_result"
    }
   ],
   "source": [
    "house_df['yr_built_bin']=pd.cut(house_df.yr_built,bins=(1900,1925,1950,1975,2000,2020),labels=['1900s','1925s','1950s','1975s','2000s'],right=False)\n",
    "house_df[['yr_built','yr_built_bin']].head()"
   ]
  },
  {
   "cell_type": "code",
   "execution_count": 593,
   "metadata": {},
   "outputs": [
    {
     "data": {
      "text/plain": [
       "Text(0.5, 1.0, 'Plot against price')"
      ]
     },
     "execution_count": 593,
     "metadata": {},
     "output_type": "execute_result"
    },
    {
     "data": {
      "image/png": "[encoded data removed]",
      "text/plain": [
       "<Figure size 1440x360 with 2 Axes>"
      ]
     },
     "metadata": {
      "needs_background": "light"
     },
     "output_type": "display_data"
    }
   ],
   "source": [
    "fig,(ax1,ax2) = plt.subplots(nrows=1,ncols=2, figsize=(20,5))\n",
    "sns.countplot(x='yr_built_bin',data=house_df,ax=ax1)\n",
    "ax1.set_title(\"Count Plot\")\n",
    "sns.barplot(x='yr_built_bin',y='price',data=house_df,ax=ax2)\n",
    "ax2.set_title(\"Plot against price\")"
   ]
  },
  {
   "cell_type": "markdown",
   "metadata": {},
   "source": [
    "#### * Here 'yr_built' is divided into 5 groups.\n",
    "#### * Number of houses built in 1950's is more.\n",
    "#### * Price of houses built in 1900's is more compared to other built year."
   ]
  },
  {
   "cell_type": "markdown",
   "metadata": {},
   "source": [
    "### Lat,Long binning:"
   ]
  },
  {
   "cell_type": "code",
   "execution_count": null,
   "metadata": {},
   "outputs": [],
   "source": [
    "longmin = house_df['long'].min()\n",
    "latmin = house_df['lat'].min()\n",
    "\n",
    "data_ = {'key':['longmin', 'latmin', ], 'val':[longmin, latmin]} \n",
    "\n",
    "lat_long_df = pd.DataFrame(data_) \n",
    "lat_long_df.set_index(\"key\", inplace = True) \n",
    "\n",
    "#lat_long_df.to_csv('../data/lat_long_df.csv')\n",
    "\n",
    "house_df['long_bin'] = house_df['long'].apply(lambda val: round(( abs(longmin) - abs(val)) /.2))\n",
    "house_df['lat_bin'] = house_df['lat'].apply(lambda val: round(( abs(val) - abs(latmin) )/.2))\n",
    "house_df['region'] = house_df.apply (lambda row: str(row['long_bin'])+'-'+str(row['lat_bin']), axis=1)\n",
    "#house_df.region = pd.Categorical(house_df.region).codes\n",
    "house_df['Region_name']= house_df.apply (lambda row: \"Region\"+'-'+str(row['region']), axis=1)\n",
    "#house_df.drop(['long_bin', 'lat_bin', 'region'], axis=1, inplace=True)\n",
    "sns.lmplot(y='lat',x='long', data=house_df, hue='region', fit_reg=False)"
   ]
  },
  {
   "cell_type": "markdown",
   "metadata": {},
   "source": [
    "### Binning 'house_age' :"
   ]
  },
  {
   "cell_type": "code",
   "execution_count": 594,
   "metadata": {},
   "outputs": [
    {
     "data": {
      "text/html": [
       "<div>\n",
       "<style scoped>\n",
       "    .dataframe tbody tr th:only-of-type {\n",
       "        vertical-align: middle;\n",
       "    }\n",
       "\n",
       "    .dataframe tbody tr th {\n",
       "        vertical-align: top;\n",
       "    }\n",
       "\n",
       "    .dataframe thead th {\n",
       "        text-align: right;\n",
       "    }\n",
       "</style>\n",
       "<table border=\"1\" class=\"dataframe\">\n",
       "  <thead>\n",
       "    <tr style=\"text-align: right;\">\n",
       "      <th></th>\n",
       "      <th>house_age</th>\n",
       "      <th>house_age_bin</th>\n",
       "    </tr>\n",
       "  </thead>\n",
       "  <tbody>\n",
       "    <tr>\n",
       "      <th>0</th>\n",
       "      <td>58</td>\n",
       "      <td>60</td>\n",
       "    </tr>\n",
       "    <tr>\n",
       "      <th>1</th>\n",
       "      <td>38</td>\n",
       "      <td>40</td>\n",
       "    </tr>\n",
       "    <tr>\n",
       "      <th>2</th>\n",
       "      <td>9</td>\n",
       "      <td>10</td>\n",
       "    </tr>\n",
       "    <tr>\n",
       "      <th>3</th>\n",
       "      <td>98</td>\n",
       "      <td>90</td>\n",
       "    </tr>\n",
       "    <tr>\n",
       "      <th>4</th>\n",
       "      <td>61</td>\n",
       "      <td>70</td>\n",
       "    </tr>\n",
       "  </tbody>\n",
       "</table>\n",
       "</div>"
      ],
      "text/plain": [
       "   house_age house_age_bin\n",
       "0         58            60\n",
       "1         38            40\n",
       "2          9            10\n",
       "3         98            90\n",
       "4         61            70"
      ]
     },
     "execution_count": 594,
     "metadata": {},
     "output_type": "execute_result"
    }
   ],
   "source": [
    "age_labels=[0,10,20,30,40,50,60,70,80,90]\n",
    "house_df['house_age_bin']=pd.qcut(house_df['house_age'],q=10,labels=age_labels)\n",
    "house_df[['house_age','house_age_bin']].head()"
   ]
  },
  {
   "cell_type": "code",
   "execution_count": 595,
   "metadata": {},
   "outputs": [
    {
     "data": {
      "text/plain": [
       "Text(0.5, 1.0, 'Plot against price')"
      ]
     },
     "execution_count": 595,
     "metadata": {},
     "output_type": "execute_result"
    },
    {
     "data": {
      "image/png": "[encoded data removed]",
      "text/plain": [
       "<Figure size 1440x360 with 2 Axes>"
      ]
     },
     "metadata": {
      "needs_background": "light"
     },
     "output_type": "display_data"
    }
   ],
   "source": [
    "fig,(ax1,ax2) = plt.subplots(nrows=1,ncols=2, figsize=(20,5))\n",
    "sns.countplot(x='house_age_bin',data=house_df,ax=ax1)\n",
    "ax1.set_title(\"Count Plot\")\n",
    "sns.barplot(x='house_age_bin',y='price',data=house_df,ax=ax2)\n",
    "ax2.set_title(\"Plot against price\")"
   ]
  },
  {
   "cell_type": "markdown",
   "metadata": {},
   "source": [
    "#### * House_age is equally distributed in 10 groups."
   ]
  },
  {
   "cell_type": "markdown",
   "metadata": {},
   "source": [
    "### Binning 'year_renovated' :"
   ]
  },
  {
   "cell_type": "code",
   "execution_count": 596,
   "metadata": {},
   "outputs": [
    {
     "data": {
      "text/html": [
       "<div>\n",
       "<style scoped>\n",
       "    .dataframe tbody tr th:only-of-type {\n",
       "        vertical-align: middle;\n",
       "    }\n",
       "\n",
       "    .dataframe tbody tr th {\n",
       "        vertical-align: top;\n",
       "    }\n",
       "\n",
       "    .dataframe thead th {\n",
       "        text-align: right;\n",
       "    }\n",
       "</style>\n",
       "<table border=\"1\" class=\"dataframe\">\n",
       "  <thead>\n",
       "    <tr style=\"text-align: right;\">\n",
       "      <th></th>\n",
       "      <th>yr_renovated</th>\n",
       "      <th>yr_renovated_bin</th>\n",
       "    </tr>\n",
       "  </thead>\n",
       "  <tbody>\n",
       "    <tr>\n",
       "      <th>0</th>\n",
       "      <td>0</td>\n",
       "      <td>not renovated</td>\n",
       "    </tr>\n",
       "    <tr>\n",
       "      <th>1</th>\n",
       "      <td>0</td>\n",
       "      <td>not renovated</td>\n",
       "    </tr>\n",
       "    <tr>\n",
       "      <th>2</th>\n",
       "      <td>0</td>\n",
       "      <td>not renovated</td>\n",
       "    </tr>\n",
       "    <tr>\n",
       "      <th>3</th>\n",
       "      <td>0</td>\n",
       "      <td>not renovated</td>\n",
       "    </tr>\n",
       "    <tr>\n",
       "      <th>4</th>\n",
       "      <td>0</td>\n",
       "      <td>not renovated</td>\n",
       "    </tr>\n",
       "  </tbody>\n",
       "</table>\n",
       "</div>"
      ],
      "text/plain": [
       "   yr_renovated yr_renovated_bin\n",
       "0             0    not renovated\n",
       "1             0    not renovated\n",
       "2             0    not renovated\n",
       "3             0    not renovated\n",
       "4             0    not renovated"
      ]
     },
     "execution_count": 596,
     "metadata": {},
     "output_type": "execute_result"
    }
   ],
   "source": [
    "house_df['yr_renovated_bin']=pd.cut(house_df.yr_renovated,bins=(0,1925,1950,1975,2000,2020),labels=['not renovated','1925s','1950s','1975s','2000s'],right=False)\n",
    "house_df[['yr_renovated','yr_renovated_bin']].head()"
   ]
  },
  {
   "cell_type": "code",
   "execution_count": 597,
   "metadata": {},
   "outputs": [
    {
     "data": {
      "text/plain": [
       "Text(0.5, 1.0, 'Plot against price')"
      ]
     },
     "execution_count": 597,
     "metadata": {},
     "output_type": "execute_result"
    },
    {
     "data": {
      "image/png": "[encoded data removed]",
      "text/plain": [
       "<Figure size 1440x360 with 2 Axes>"
      ]
     },
     "metadata": {
      "needs_background": "light"
     },
     "output_type": "display_data"
    }
   ],
   "source": [
    "fig,(ax1,ax2) = plt.subplots(nrows=1,ncols=2, figsize=(20,5))\n",
    "sns.countplot(x='yr_renovated_bin',data=house_df,ax=ax1)\n",
    "ax1.set_title(\"Count Plot\")\n",
    "sns.barplot(x='yr_renovated_bin',y='price',data=house_df,ax=ax2)\n",
    "ax2.set_title(\"Plot against price\")"
   ]
  },
  {
   "cell_type": "markdown",
   "metadata": {},
   "source": [
    "#### * Here grouping is done for 'yr_renovated' in 5 groups.\n",
    "#### * Max number of houses are not renavated.\n",
    "#### * Price of houses renovated in 2000's is more compared to other renovated year."
   ]
  },
  {
   "cell_type": "markdown",
   "metadata": {},
   "source": [
    "# Binning Zipcodes"
   ]
  },
  {
   "cell_type": "code",
   "execution_count": 598,
   "metadata": {},
   "outputs": [],
   "source": [
    "replaceStruct = {\n",
    "                \"zipcode\": {98001 : \"Auburn\", 98002 : \"Auburn\", 98003 : \"Federal Way\" , 98004 : \"Bellevue\" ,98005 : \"Bellevue\",\n",
    "                            98006 : \"Bellevue\", 98007 : \"Bellevue\", 98008 : \"Bellevue\", 98010 : \"Black Diamond\", 98011 : \"Bothell\",\n",
    "                            98014 : \"Carnation\", 98019 : \"Duvall\", 98022 : \"Enumclaw\", 98023 : \"Federal Way\", 98024 : \"Fall City\",\n",
    "                            98027 : \"Issaquah\", 98028 : \"Kenmore\", 98029 : \"Issaquah\" , 98030 : \"Kent\", 98031 : \"Kent\",\n",
    "                            98032 : \"kent\", 98033 : \"Kirkland\", 98034 : \"Kirkland\", 98038 : \"Maple Valley\", 98039 : \"Medina\",\n",
    "                            98040 : \"Mercer Island\", 98042 : \"Kent\", 98045 : \"North Bend\", 98052 : \"Redmond\", 98053 : \"Redmond\",\n",
    "                            98055 : \"Renton\", 98056 : \"Renton\", 98058 : \"Renton\", 98059 : \"Renton\", 98065 : \"Snoqualmie\", 98072 : \"Woodinville\",\n",
    "                            98070 : \"Vashon\", 98074 : \"Sammamish\", 98075 : \"Sammamish\", 98077 : \"Woodinville\", 98092 : \"Auburn\",\n",
    "                            98102 : \"Seattle\", 98103 : \"Seattle\" ,98105 : \"Seattle\" , 98106 : \"Seattle\",\n",
    "                            98107 :\"Seattle\" ,98108 : \"Seattle\", 98109 : \"Seattle\", 98112 : \"Seattle\", 98115:\"Seattle\", 98116:\"Seattle\", 98117:\"Seattle\", 98118:\"Seattle\", 98119:\"Seattle\",\n",
    "                            98122 :\"Seattle\", 98125:\"Seattle\", 98126:\"Seattle\", 98133 :\"Seattle\", 98136:\"Seattle\", 98144:\"Seattle\", 98146:\"Seattle\", 98148:\"Seattle\", 98155:\"Seattle\",\n",
    "                            98166 : \"Seattle\", 98168:\"Seattle\", 98177:\"Seattle\", 98178:\"Seattle\", 98188:\"Seattle\", 98198:\"Seattle\", 98199:\"Seattle\"\n",
    "                            }\n",
    "                }\n",
    "house_df = house_df.replace(replaceStruct)"
   ]
  },
  {
   "cell_type": "code",
   "execution_count": 599,
   "metadata": {},
   "outputs": [
    {
     "data": {
      "text/plain": [
       "Text(0.5, 1.0, ' BARPLOT BETWEEN ZIPCODE AND PRICES')"
      ]
     },
     "execution_count": 599,
     "metadata": {},
     "output_type": "execute_result"
    },
    {
     "data": {
      "image/png": "[encoded data removed]",
      "text/plain": [
       "<Figure size 864x360 with 1 Axes>"
      ]
     },
     "metadata": {
      "needs_background": "light"
     },
     "output_type": "display_data"
    }
   ],
   "source": [
    "plt.figure(figsize=(12,5))\n",
    "sns.barplot(x='zipcode',y='price',data=house_df)\n",
    "plt.xticks(rotation = 90)\n",
    "plt.title(\" BARPLOT BETWEEN ZIPCODE AND PRICES\")"
   ]
  },
  {
   "cell_type": "code",
   "execution_count": 600,
   "metadata": {},
   "outputs": [
    {
     "data": {
      "text/plain": [
       "array(['Seattle', 'Federal Way', 'Maple Valley', 'Renton', 'Kenmore',\n",
       "       'Auburn', 'Redmond', 'Bothell', 'Kent', 'Bellevue', 'Sammamish',\n",
       "       'Kirkland', 'Issaquah', 'Enumclaw', 'Carnation', 'Black Diamond',\n",
       "       'North Bend', 'Snoqualmie', 'kent', 'Woodinville', 'Mercer Island',\n",
       "       'Duvall', 'Medina', 'Vashon', 'Fall City'], dtype=object)"
      ]
     },
     "execution_count": 600,
     "metadata": {},
     "output_type": "execute_result"
    }
   ],
   "source": [
    "house_df.zipcode.unique()"
   ]
  },
  {
   "cell_type": "code",
   "execution_count": 601,
   "metadata": {},
   "outputs": [
    {
     "data": {
      "text/plain": [
       "count       21613\n",
       "unique         25\n",
       "top       Seattle\n",
       "freq         8977\n",
       "Name: zipcode, dtype: object"
      ]
     },
     "execution_count": 601,
     "metadata": {},
     "output_type": "execute_result"
    }
   ],
   "source": [
    "house_df.zipcode.describe()"
   ]
  },
  {
   "cell_type": "code",
   "execution_count": 602,
   "metadata": {},
   "outputs": [
    {
     "data": {
      "text/html": [
       "<div>\n",
       "<style scoped>\n",
       "    .dataframe tbody tr th:only-of-type {\n",
       "        vertical-align: middle;\n",
       "    }\n",
       "\n",
       "    .dataframe tbody tr th {\n",
       "        vertical-align: top;\n",
       "    }\n",
       "\n",
       "    .dataframe thead th {\n",
       "        text-align: right;\n",
       "    }\n",
       "</style>\n",
       "<table border=\"1\" class=\"dataframe\">\n",
       "  <thead>\n",
       "    <tr style=\"text-align: right;\">\n",
       "      <th></th>\n",
       "      <th>cid</th>\n",
       "      <th>dayhours</th>\n",
       "      <th>price</th>\n",
       "      <th>room_bed</th>\n",
       "      <th>room_bath</th>\n",
       "      <th>living_measure</th>\n",
       "      <th>lot_measure</th>\n",
       "      <th>ceil</th>\n",
       "      <th>coast</th>\n",
       "      <th>sight</th>\n",
       "      <th>...</th>\n",
       "      <th>price_bin</th>\n",
       "      <th>condition_bin</th>\n",
       "      <th>quality_bin</th>\n",
       "      <th>room_bed_bin</th>\n",
       "      <th>room_bath_bin</th>\n",
       "      <th>ceil_bin</th>\n",
       "      <th>sight_bin</th>\n",
       "      <th>yr_built_bin</th>\n",
       "      <th>house_age_bin</th>\n",
       "      <th>yr_renovated_bin</th>\n",
       "    </tr>\n",
       "  </thead>\n",
       "  <tbody>\n",
       "    <tr>\n",
       "      <th>0</th>\n",
       "      <td>3034200666</td>\n",
       "      <td>20141107T000000</td>\n",
       "      <td>808100</td>\n",
       "      <td>4.0</td>\n",
       "      <td>3.25</td>\n",
       "      <td>3020.0</td>\n",
       "      <td>13457.0</td>\n",
       "      <td>1.0</td>\n",
       "      <td>0</td>\n",
       "      <td>0</td>\n",
       "      <td>...</td>\n",
       "      <td>(75000, 1075000]</td>\n",
       "      <td>Good</td>\n",
       "      <td>Medium</td>\n",
       "      <td>Medium</td>\n",
       "      <td>Bath_grp3</td>\n",
       "      <td>Floor_grp1</td>\n",
       "      <td>Not Visited</td>\n",
       "      <td>1950s</td>\n",
       "      <td>60</td>\n",
       "      <td>not renovated</td>\n",
       "    </tr>\n",
       "    <tr>\n",
       "      <th>1</th>\n",
       "      <td>8731981640</td>\n",
       "      <td>20141204T000000</td>\n",
       "      <td>277500</td>\n",
       "      <td>4.0</td>\n",
       "      <td>2.50</td>\n",
       "      <td>2550.0</td>\n",
       "      <td>7500.0</td>\n",
       "      <td>1.0</td>\n",
       "      <td>0</td>\n",
       "      <td>0</td>\n",
       "      <td>...</td>\n",
       "      <td>(75000, 1075000]</td>\n",
       "      <td>Medium</td>\n",
       "      <td>Medium</td>\n",
       "      <td>Medium</td>\n",
       "      <td>Bath_grp2</td>\n",
       "      <td>Floor_grp1</td>\n",
       "      <td>Not Visited</td>\n",
       "      <td>1975s</td>\n",
       "      <td>40</td>\n",
       "      <td>not renovated</td>\n",
       "    </tr>\n",
       "    <tr>\n",
       "      <th>2</th>\n",
       "      <td>5104530220</td>\n",
       "      <td>20150420T000000</td>\n",
       "      <td>404000</td>\n",
       "      <td>3.0</td>\n",
       "      <td>2.50</td>\n",
       "      <td>2370.0</td>\n",
       "      <td>4324.0</td>\n",
       "      <td>2.0</td>\n",
       "      <td>0</td>\n",
       "      <td>0</td>\n",
       "      <td>...</td>\n",
       "      <td>(75000, 1075000]</td>\n",
       "      <td>Medium</td>\n",
       "      <td>Medium</td>\n",
       "      <td>Medium</td>\n",
       "      <td>Bath_grp2</td>\n",
       "      <td>Floor_grp2</td>\n",
       "      <td>Not Visited</td>\n",
       "      <td>2000s</td>\n",
       "      <td>10</td>\n",
       "      <td>not renovated</td>\n",
       "    </tr>\n",
       "    <tr>\n",
       "      <th>3</th>\n",
       "      <td>6145600285</td>\n",
       "      <td>20140529T000000</td>\n",
       "      <td>300000</td>\n",
       "      <td>2.0</td>\n",
       "      <td>1.00</td>\n",
       "      <td>820.0</td>\n",
       "      <td>3844.0</td>\n",
       "      <td>1.0</td>\n",
       "      <td>0</td>\n",
       "      <td>0</td>\n",
       "      <td>...</td>\n",
       "      <td>(75000, 1075000]</td>\n",
       "      <td>Medium</td>\n",
       "      <td>Bad</td>\n",
       "      <td>Samll</td>\n",
       "      <td>Bath_grp1</td>\n",
       "      <td>Floor_grp1</td>\n",
       "      <td>Not Visited</td>\n",
       "      <td>1900s</td>\n",
       "      <td>90</td>\n",
       "      <td>not renovated</td>\n",
       "    </tr>\n",
       "    <tr>\n",
       "      <th>4</th>\n",
       "      <td>8924100111</td>\n",
       "      <td>20150424T000000</td>\n",
       "      <td>699000</td>\n",
       "      <td>2.0</td>\n",
       "      <td>1.50</td>\n",
       "      <td>1400.0</td>\n",
       "      <td>4050.0</td>\n",
       "      <td>1.0</td>\n",
       "      <td>0</td>\n",
       "      <td>0</td>\n",
       "      <td>...</td>\n",
       "      <td>(75000, 1075000]</td>\n",
       "      <td>Medium</td>\n",
       "      <td>Medium</td>\n",
       "      <td>Samll</td>\n",
       "      <td>Bath_grp1</td>\n",
       "      <td>Floor_grp1</td>\n",
       "      <td>Not Visited</td>\n",
       "      <td>1950s</td>\n",
       "      <td>70</td>\n",
       "      <td>not renovated</td>\n",
       "    </tr>\n",
       "  </tbody>\n",
       "</table>\n",
       "<p>5 rows × 35 columns</p>\n",
       "</div>"
      ],
      "text/plain": [
       "          cid         dayhours   price  room_bed  room_bath  living_measure  \\\n",
       "0  3034200666  20141107T000000  808100       4.0       3.25          3020.0   \n",
       "1  8731981640  20141204T000000  277500       4.0       2.50          2550.0   \n",
       "2  5104530220  20150420T000000  404000       3.0       2.50          2370.0   \n",
       "3  6145600285  20140529T000000  300000       2.0       1.00           820.0   \n",
       "4  8924100111  20150424T000000  699000       2.0       1.50          1400.0   \n",
       "\n",
       "   lot_measure ceil coast sight  ...         price_bin condition_bin  \\\n",
       "0      13457.0  1.0     0     0  ...  (75000, 1075000]          Good   \n",
       "1       7500.0  1.0     0     0  ...  (75000, 1075000]        Medium   \n",
       "2       4324.0  2.0     0     0  ...  (75000, 1075000]        Medium   \n",
       "3       3844.0  1.0     0     0  ...  (75000, 1075000]        Medium   \n",
       "4       4050.0  1.0     0     0  ...  (75000, 1075000]        Medium   \n",
       "\n",
       "   quality_bin  room_bed_bin  room_bath_bin    ceil_bin    sight_bin  \\\n",
       "0       Medium        Medium      Bath_grp3  Floor_grp1  Not Visited   \n",
       "1       Medium        Medium      Bath_grp2  Floor_grp1  Not Visited   \n",
       "2       Medium        Medium      Bath_grp2  Floor_grp2  Not Visited   \n",
       "3          Bad         Samll      Bath_grp1  Floor_grp1  Not Visited   \n",
       "4       Medium         Samll      Bath_grp1  Floor_grp1  Not Visited   \n",
       "\n",
       "   yr_built_bin  house_age_bin  yr_renovated_bin  \n",
       "0         1950s             60     not renovated  \n",
       "1         1975s             40     not renovated  \n",
       "2         2000s             10     not renovated  \n",
       "3         1900s             90     not renovated  \n",
       "4         1950s             70     not renovated  \n",
       "\n",
       "[5 rows x 35 columns]"
      ]
     },
     "execution_count": 602,
     "metadata": {},
     "output_type": "execute_result"
    }
   ],
   "source": [
    "house_df.head()"
   ]
  },
  {
   "cell_type": "code",
   "execution_count": 607,
   "metadata": {},
   "outputs": [
    {
     "name": "stdout",
     "output_type": "stream",
     "text": [
      "correlation between living_measure and price:\n",
      "0.4698618477335944\n",
      "\n",
      "correlation between living_measure15 and price:\n",
      "0.43607168480366193\n",
      "\n",
      "correlation between lot_measure and price:\n",
      "0.10370394435639435\n",
      "\n",
      "correlation between lot_measure15 and price:\n",
      "0.09761614668984993\n",
      "\n",
      "correlation between basement and price:\n",
      "0.16086228217889004\n"
     ]
    }
   ],
   "source": [
    "print('correlation between living_measure and price:')\n",
    "print(house_df['living_measure'].corr(house_df['price']))\n",
    "\n",
    "print('\\ncorrelation between living_measure15 and price:')\n",
    "print(house_df['living_measure15'].corr(house_df['price']))\n",
    "\n",
    "print('\\ncorrelation between lot_measure and price:')\n",
    "print(house_df['lot_measure'].corr(house_df['price']))\n",
    "\n",
    "print('\\ncorrelation between lot_measure15 and price:')\n",
    "print(house_df['lot_measure15'].corr(house_df['price']))\n",
    "\n",
    "print('\\ncorrelation between basement and price:')\n",
    "print(house_df['basement'].corr(house_df['price']))\n"
   ]
  },
  {
   "cell_type": "markdown",
   "metadata": {},
   "source": [
    "#### looking at the above correlation values of living_measure, living_measure15 with 'price'; we can retain living_measure since its correlation with 'price'  is high and drop the other one.\n",
    "#### And between lot_measure and lot_measure15; we can retain lot_measure since its correlation with 'price'  is little higher and drop the other one."
   ]
  },
  {
   "cell_type": "code",
   "execution_count": 608,
   "metadata": {},
   "outputs": [],
   "source": [
    "# A function to add Mean Encoded feature by considering the mean target value.\n",
    "def meanEnc (dataSet,indFeatureName):\n",
    "    #compute global mean\n",
    "    tar_mean = dataSet.price.mean()\n",
    "    #compute the number of values and mean of each group\n",
    "    agg = dataSet.groupby(indFeatureName)['price'].agg(['count','mean'])\n",
    "    counts = agg['count']\n",
    "    means = agg['mean']\n",
    "    weight = 100\n",
    "    #compute smoothed means\n",
    "    smooth = (counts * means + weight * tar_mean)/(counts + weight)\n",
    "    print (smooth)\n",
    "    smooth1 = smooth.copy()\n",
    "    smooth = smooth.reset_index()\n",
    "    grpDF = pd.DataFrame(smooth, columns=smooth.columns)\n",
    "    grpDF.rename(columns = {indFeatureName:'key', 0:\"val\"}, inplace = True) \n",
    "    grpDF.set_index(\"key\", inplace = True) \n",
    "    #grpDF.to_csv('../data/'+indFeatureName+'.csv')\n",
    "    dataSet.loc[:,indFeatureName+'_enc'] = dataSet[indFeatureName].map(smooth1)\n",
    "\n"
   ]
  },
  {
   "cell_type": "code",
   "execution_count": 609,
   "metadata": {},
   "outputs": [],
   "source": [
    "#lets remove unwanted columns\n",
    "#lets create a function to drop columns\n",
    "def dropcols (col_list):\n",
    "    for col in col_list:\n",
    "        if col in house_df.columns:\n",
    "            house_df.drop(col,axis=1,inplace=True)\n",
    "            print(\"dropped column: \" + col)"
   ]
  },
  {
   "cell_type": "code",
   "execution_count": 612,
   "metadata": {},
   "outputs": [
    {
     "name": "stdout",
     "output_type": "stream",
     "text": [
      "room_bed_bin\n",
      "Samll     406240.698559\n",
      "Medium    539497.438674\n",
      "Large     772371.365008\n",
      "dtype: float64\n",
      "room_bath_bin\n",
      "Bath_grp1    398278.354624\n",
      "Bath_grp2    588592.901978\n",
      "Bath_grp3    847215.787335\n",
      "dtype: float64\n",
      "condition_bin\n",
      "Bad       398508.459865\n",
      "Medium    536125.650423\n",
      "Good      608557.998823\n",
      "dtype: float64\n",
      "quality_bin\n",
      "Bad       3.051981e+05\n",
      "Medium    5.059291e+05\n",
      "Good      1.198494e+06\n",
      "dtype: float64\n",
      "ceil_bin\n",
      "Floor_grp1    460575.217485\n",
      "Floor_grp2    655572.372134\n",
      "Floor_grp3    580632.216199\n",
      "dtype: float64\n",
      "sight_bin\n",
      "Not Visited     5.021068e+05\n",
      "Few Visited     8.349597e+05\n",
      "Many Visited    1.243795e+06\n",
      "dtype: float64\n",
      "yr_built_bin\n",
      "1900s    594648.566754\n",
      "1925s    514605.682249\n",
      "1950s    472663.741516\n",
      "1975s    539232.000947\n",
      "2000s    616876.352311\n",
      "dtype: float64\n",
      "house_age_bin\n",
      "0     617503.901273\n",
      "10    604235.781831\n",
      "20    592625.980954\n",
      "30    546807.199018\n",
      "40    497280.694787\n",
      "50    468265.045197\n",
      "60    465525.449119\n",
      "70    485127.842242\n",
      "80    530914.625388\n",
      "90    594905.765717\n",
      "dtype: float64\n",
      "yr_renovated_bin\n",
      "not renovated    530494.759887\n",
      "1925s            527856.735267\n",
      "1950s            521594.697650\n",
      "1975s            709494.866979\n",
      "2000s            767963.748888\n",
      "dtype: float64\n",
      "zipcode\n",
      "Auburn           3.160567e+05\n",
      "Bellevue         8.746914e+05\n",
      "Black Diamond    4.819241e+05\n",
      "Bothell          5.072602e+05\n",
      "Carnation        4.933694e+05\n",
      "Duvall           4.645968e+05\n",
      "Enumclaw         3.829167e+05\n",
      "Fall City        5.582867e+05\n",
      "Federal Way      3.179227e+05\n",
      "Issaquah         6.061258e+05\n",
      "Kenmore          4.827743e+05\n",
      "Kent             3.250973e+05\n",
      "Kirkland         6.366672e+05\n",
      "Maple Valley     3.919929e+05\n",
      "Medina           1.080555e+06\n",
      "Mercer Island    1.023488e+06\n",
      "North Bend       4.708702e+05\n",
      "Redmond          6.479055e+05\n",
      "Renton           4.115247e+05\n",
      "Sammamish        7.114167e+05\n",
      "Seattle          5.351258e+05\n",
      "Snoqualmie       5.309736e+05\n",
      "Vashon           5.116556e+05\n",
      "Woodinville      6.039575e+05\n",
      "kent             3.796900e+05\n",
      "dtype: float64\n",
      "Region_name\n",
      "Region-0.0-1.0    515027.458141\n",
      "Region-0.0-2.0    528154.105568\n",
      "Region-1.0-1.0    316865.434294\n",
      "Region-1.0-2.0    589267.461484\n",
      "Region-1.0-3.0    549520.771434\n",
      "Region-2.0-0.0    511904.079672\n",
      "Region-2.0-1.0    332334.155034\n",
      "Region-2.0-2.0    691789.897149\n",
      "Region-2.0-3.0    618586.394972\n",
      "Region-3.0-0.0    380693.461653\n",
      "Region-3.0-1.0    471365.212931\n",
      "Region-3.0-2.0    609006.483796\n",
      "Region-3.0-3.0    532039.573488\n",
      "Region-4.0-0.0    538596.196825\n",
      "Region-4.0-1.0    490861.319196\n",
      "Region-4.0-2.0    482109.153424\n",
      "Region-5.0-3.0    532972.704699\n",
      "Region-6.0-1.0    540031.840389\n",
      "Region-6.0-3.0    501493.121749\n",
      "dtype: float64\n",
      "furnished\n",
      "0    437889.335464\n",
      "1    950717.042951\n",
      "dtype: float64\n",
      "coast\n",
      "0    5.316930e+05\n",
      "1    1.235778e+06\n",
      "dtype: float64\n"
     ]
    }
   ],
   "source": [
    "meanEnc(house_df, house_df.room_bed_bin.name)\n",
    "meanEnc(house_df, house_df.room_bath_bin.name)\n",
    "meanEnc(house_df, house_df.condition_bin.name)\n",
    "meanEnc(house_df, house_df.quality_bin.name)\n",
    "meanEnc(house_df, house_df.ceil_bin.name)\n",
    "meanEnc(house_df, house_df.sight_bin.name)\n",
    "meanEnc(house_df, house_df.yr_built_bin.name)\n",
    "meanEnc(house_df, house_df.house_age_bin.name)\n",
    "meanEnc(house_df, house_df.yr_renovated_bin.name)\n",
    "meanEnc(house_df, house_df.zipcode.name)\n",
    "meanEnc(house_df, house_df.Region_name.name)\n",
    "meanEnc(house_df, house_df.furnished.name)\n",
    "meanEnc(house_df, house_df.coast.name)"
   ]
  },
  {
   "cell_type": "code",
   "execution_count": 613,
   "metadata": {},
   "outputs": [
    {
     "data": {
      "text/plain": [
       "Index(['cid', 'dayhours', 'price', 'room_bed', 'room_bath', 'living_measure',\n",
       "       'lot_measure', 'ceil', 'coast', 'sight', 'condition', 'quality',\n",
       "       'ceil_measure', 'basement', 'yr_built', 'yr_renovated', 'zipcode',\n",
       "       'lat', 'long', 'living_measure15', 'lot_measure15', 'furnished',\n",
       "       'total_area', 'yr_sold', 'house_age', 'price_bin', 'condition_bin',\n",
       "       'quality_bin', 'room_bed_bin', 'room_bath_bin', 'ceil_bin', 'sight_bin',\n",
       "       'yr_built_bin', 'house_age_bin', 'yr_renovated_bin', 'long_bin',\n",
       "       'lat_bin', 'region', 'Region_name', 'room_bed_bin_enc',\n",
       "       'room_bath_bin_enc', 'condition_bin_enc', 'quality_bin_enc',\n",
       "       'ceil_bin_enc', 'sight_bin_enc', 'yr_built_bin_enc',\n",
       "       'house_age_bin_enc', 'yr_renovated_bin_enc', 'zipcode_enc',\n",
       "       'Region_name_enc', 'furnished_enc', 'coast_enc'],\n",
       "      dtype='object')"
      ]
     },
     "execution_count": 613,
     "metadata": {},
     "output_type": "execute_result"
    }
   ],
   "source": [
    "house_df.columns"
   ]
  },
  {
   "cell_type": "code",
   "execution_count": 614,
   "metadata": {},
   "outputs": [
    {
     "name": "stdout",
     "output_type": "stream",
     "text": [
      "dropped column: cid\n",
      "dropped column: lat\n",
      "dropped column: long\n",
      "dropped column: dayhours\n",
      "dropped column: room_bed\n",
      "dropped column: room_bath\n",
      "dropped column: ceil\n",
      "dropped column: sight\n",
      "dropped column: condition\n",
      "dropped column: zipcode\n",
      "dropped column: quality\n",
      "dropped column: yr_built\n",
      "dropped column: living_measure15\n",
      "dropped column: lot_measure15\n",
      "dropped column: yr_sold\n",
      "dropped column: price_bin\n",
      "dropped column: condition_bin\n",
      "dropped column: quality_bin\n",
      "dropped column: room_bed_bin\n",
      "dropped column: room_bath_bin\n",
      "dropped column: ceil_bin\n",
      "dropped column: sight_bin\n",
      "dropped column: yr_built_bin\n",
      "dropped column: house_age_bin\n",
      "dropped column: yr_renovated_bin\n",
      "dropped column: Region_name\n",
      "dropped column: region\n",
      "dropped column: furnished\n",
      "dropped column: coast\n",
      "dropped column: lat_bin\n",
      "dropped column: long_bin\n"
     ]
    }
   ],
   "source": [
    "col=['cid','lat', 'long','dayhours','room_bed', 'room_bath','ceil','sight', 'condition','zipcode', 'quality','yr_built','living_measure15', \n",
    "     'lot_measure15','yr_sold', 'price_bin','condition_bin', 'quality_bin', 'room_bed_bin', 'room_bath_bin','ceil_bin',\n",
    "     'sight_bin', 'yr_built_bin', 'house_age_bin','yr_renovated_bin','Region_name','region','furnished','coast','lat_bin','long_bin']\n",
    "dropcols(col)"
   ]
  },
  {
   "cell_type": "code",
   "execution_count": 615,
   "metadata": {},
   "outputs": [
    {
     "data": {
      "text/html": [
       "<div>\n",
       "<style scoped>\n",
       "    .dataframe tbody tr th:only-of-type {\n",
       "        vertical-align: middle;\n",
       "    }\n",
       "\n",
       "    .dataframe tbody tr th {\n",
       "        vertical-align: top;\n",
       "    }\n",
       "\n",
       "    .dataframe thead th {\n",
       "        text-align: right;\n",
       "    }\n",
       "</style>\n",
       "<table border=\"1\" class=\"dataframe\">\n",
       "  <thead>\n",
       "    <tr style=\"text-align: right;\">\n",
       "      <th></th>\n",
       "      <th>price</th>\n",
       "      <th>living_measure</th>\n",
       "      <th>lot_measure</th>\n",
       "      <th>ceil_measure</th>\n",
       "      <th>basement</th>\n",
       "      <th>yr_renovated</th>\n",
       "      <th>total_area</th>\n",
       "      <th>house_age</th>\n",
       "      <th>room_bed_bin_enc</th>\n",
       "      <th>room_bath_bin_enc</th>\n",
       "      <th>...</th>\n",
       "      <th>quality_bin_enc</th>\n",
       "      <th>ceil_bin_enc</th>\n",
       "      <th>sight_bin_enc</th>\n",
       "      <th>yr_built_bin_enc</th>\n",
       "      <th>house_age_bin_enc</th>\n",
       "      <th>yr_renovated_bin_enc</th>\n",
       "      <th>zipcode_enc</th>\n",
       "      <th>Region_name_enc</th>\n",
       "      <th>furnished_enc</th>\n",
       "      <th>coast_enc</th>\n",
       "    </tr>\n",
       "  </thead>\n",
       "  <tbody>\n",
       "    <tr>\n",
       "      <th>0</th>\n",
       "      <td>808100</td>\n",
       "      <td>3020.0</td>\n",
       "      <td>13457.0</td>\n",
       "      <td>3020.0</td>\n",
       "      <td>0.0</td>\n",
       "      <td>0</td>\n",
       "      <td>16477.0</td>\n",
       "      <td>58</td>\n",
       "      <td>539497.438674</td>\n",
       "      <td>847215.787335</td>\n",
       "      <td>...</td>\n",
       "      <td>505929.081563</td>\n",
       "      <td>460575.217485</td>\n",
       "      <td>502106.825153</td>\n",
       "      <td>472663.741516</td>\n",
       "      <td>465525.449119</td>\n",
       "      <td>530494.759887</td>\n",
       "      <td>535125.845971</td>\n",
       "      <td>549520.771434</td>\n",
       "      <td>950717.042951</td>\n",
       "      <td>531692.982454</td>\n",
       "    </tr>\n",
       "    <tr>\n",
       "      <th>1</th>\n",
       "      <td>277500</td>\n",
       "      <td>2550.0</td>\n",
       "      <td>7500.0</td>\n",
       "      <td>1750.0</td>\n",
       "      <td>800.0</td>\n",
       "      <td>0</td>\n",
       "      <td>10050.0</td>\n",
       "      <td>38</td>\n",
       "      <td>539497.438674</td>\n",
       "      <td>588592.901978</td>\n",
       "      <td>...</td>\n",
       "      <td>505929.081563</td>\n",
       "      <td>460575.217485</td>\n",
       "      <td>502106.825153</td>\n",
       "      <td>539232.000947</td>\n",
       "      <td>497280.694787</td>\n",
       "      <td>530494.759887</td>\n",
       "      <td>317922.681319</td>\n",
       "      <td>316865.434294</td>\n",
       "      <td>437889.335464</td>\n",
       "      <td>531692.982454</td>\n",
       "    </tr>\n",
       "    <tr>\n",
       "      <th>2</th>\n",
       "      <td>404000</td>\n",
       "      <td>2370.0</td>\n",
       "      <td>4324.0</td>\n",
       "      <td>2370.0</td>\n",
       "      <td>0.0</td>\n",
       "      <td>0</td>\n",
       "      <td>6694.0</td>\n",
       "      <td>9</td>\n",
       "      <td>539497.438674</td>\n",
       "      <td>588592.901978</td>\n",
       "      <td>...</td>\n",
       "      <td>505929.081563</td>\n",
       "      <td>655572.372134</td>\n",
       "      <td>502106.825153</td>\n",
       "      <td>616876.352311</td>\n",
       "      <td>604235.781831</td>\n",
       "      <td>530494.759887</td>\n",
       "      <td>391992.898376</td>\n",
       "      <td>471365.212931</td>\n",
       "      <td>437889.335464</td>\n",
       "      <td>531692.982454</td>\n",
       "    </tr>\n",
       "    <tr>\n",
       "      <th>3</th>\n",
       "      <td>300000</td>\n",
       "      <td>820.0</td>\n",
       "      <td>3844.0</td>\n",
       "      <td>820.0</td>\n",
       "      <td>0.0</td>\n",
       "      <td>0</td>\n",
       "      <td>4664.0</td>\n",
       "      <td>98</td>\n",
       "      <td>406240.698559</td>\n",
       "      <td>398278.354624</td>\n",
       "      <td>...</td>\n",
       "      <td>305198.109357</td>\n",
       "      <td>460575.217485</td>\n",
       "      <td>502106.825153</td>\n",
       "      <td>594648.566754</td>\n",
       "      <td>594905.765717</td>\n",
       "      <td>530494.759887</td>\n",
       "      <td>535125.845971</td>\n",
       "      <td>549520.771434</td>\n",
       "      <td>437889.335464</td>\n",
       "      <td>531692.982454</td>\n",
       "    </tr>\n",
       "    <tr>\n",
       "      <th>4</th>\n",
       "      <td>699000</td>\n",
       "      <td>1400.0</td>\n",
       "      <td>4050.0</td>\n",
       "      <td>1400.0</td>\n",
       "      <td>0.0</td>\n",
       "      <td>0</td>\n",
       "      <td>5450.0</td>\n",
       "      <td>61</td>\n",
       "      <td>406240.698559</td>\n",
       "      <td>398278.354624</td>\n",
       "      <td>...</td>\n",
       "      <td>505929.081563</td>\n",
       "      <td>460575.217485</td>\n",
       "      <td>502106.825153</td>\n",
       "      <td>472663.741516</td>\n",
       "      <td>485127.842242</td>\n",
       "      <td>530494.759887</td>\n",
       "      <td>535125.845971</td>\n",
       "      <td>549520.771434</td>\n",
       "      <td>437889.335464</td>\n",
       "      <td>531692.982454</td>\n",
       "    </tr>\n",
       "  </tbody>\n",
       "</table>\n",
       "<p>5 rows × 21 columns</p>\n",
       "</div>"
      ],
      "text/plain": [
       "    price  living_measure  lot_measure  ceil_measure  basement  yr_renovated  \\\n",
       "0  808100          3020.0      13457.0        3020.0       0.0             0   \n",
       "1  277500          2550.0       7500.0        1750.0     800.0             0   \n",
       "2  404000          2370.0       4324.0        2370.0       0.0             0   \n",
       "3  300000           820.0       3844.0         820.0       0.0             0   \n",
       "4  699000          1400.0       4050.0        1400.0       0.0             0   \n",
       "\n",
       "   total_area  house_age  room_bed_bin_enc  room_bath_bin_enc  ...  \\\n",
       "0     16477.0         58     539497.438674      847215.787335  ...   \n",
       "1     10050.0         38     539497.438674      588592.901978  ...   \n",
       "2      6694.0          9     539497.438674      588592.901978  ...   \n",
       "3      4664.0         98     406240.698559      398278.354624  ...   \n",
       "4      5450.0         61     406240.698559      398278.354624  ...   \n",
       "\n",
       "   quality_bin_enc   ceil_bin_enc  sight_bin_enc  yr_built_bin_enc  \\\n",
       "0    505929.081563  460575.217485  502106.825153     472663.741516   \n",
       "1    505929.081563  460575.217485  502106.825153     539232.000947   \n",
       "2    505929.081563  655572.372134  502106.825153     616876.352311   \n",
       "3    305198.109357  460575.217485  502106.825153     594648.566754   \n",
       "4    505929.081563  460575.217485  502106.825153     472663.741516   \n",
       "\n",
       "   house_age_bin_enc  yr_renovated_bin_enc    zipcode_enc  Region_name_enc  \\\n",
       "0      465525.449119         530494.759887  535125.845971    549520.771434   \n",
       "1      497280.694787         530494.759887  317922.681319    316865.434294   \n",
       "2      604235.781831         530494.759887  391992.898376    471365.212931   \n",
       "3      594905.765717         530494.759887  535125.845971    549520.771434   \n",
       "4      485127.842242         530494.759887  535125.845971    549520.771434   \n",
       "\n",
       "   furnished_enc      coast_enc  \n",
       "0  950717.042951  531692.982454  \n",
       "1  437889.335464  531692.982454  \n",
       "2  437889.335464  531692.982454  \n",
       "3  437889.335464  531692.982454  \n",
       "4  437889.335464  531692.982454  \n",
       "\n",
       "[5 rows x 21 columns]"
      ]
     },
     "execution_count": 615,
     "metadata": {},
     "output_type": "execute_result"
    }
   ],
   "source": [
    "house_df.head()"
   ]
  },
  {
   "cell_type": "code",
   "execution_count": 616,
   "metadata": {},
   "outputs": [
    {
     "data": {
      "text/plain": [
       "Index(['price', 'living_measure', 'lot_measure', 'ceil_measure', 'basement',\n",
       "       'yr_renovated', 'total_area', 'house_age', 'room_bed_bin_enc',\n",
       "       'room_bath_bin_enc', 'condition_bin_enc', 'quality_bin_enc',\n",
       "       'ceil_bin_enc', 'sight_bin_enc', 'yr_built_bin_enc',\n",
       "       'house_age_bin_enc', 'yr_renovated_bin_enc', 'zipcode_enc',\n",
       "       'Region_name_enc', 'furnished_enc', 'coast_enc'],\n",
       "      dtype='object')"
      ]
     },
     "execution_count": 616,
     "metadata": {},
     "output_type": "execute_result"
    }
   ],
   "source": [
    "house_df.columns"
   ]
  },
  {
   "cell_type": "code",
   "execution_count": 617,
   "metadata": {},
   "outputs": [],
   "source": [
    "house_df=house_df.fillna(house_df.mean())"
   ]
  },
  {
   "cell_type": "code",
   "execution_count": 619,
   "metadata": {},
   "outputs": [
    {
     "data": {
      "text/plain": [
       "(21613, 21)"
      ]
     },
     "execution_count": 619,
     "metadata": {},
     "output_type": "execute_result"
    }
   ],
   "source": [
    "house_df.shape"
   ]
  },
  {
   "cell_type": "code",
   "execution_count": 620,
   "metadata": {},
   "outputs": [
    {
     "data": {
      "text/plain": [
       "price                   0\n",
       "living_measure          0\n",
       "lot_measure             0\n",
       "ceil_measure            0\n",
       "basement                0\n",
       "yr_renovated            0\n",
       "total_area              0\n",
       "house_age               0\n",
       "room_bed_bin_enc        0\n",
       "room_bath_bin_enc       0\n",
       "condition_bin_enc       0\n",
       "quality_bin_enc         0\n",
       "ceil_bin_enc            0\n",
       "sight_bin_enc           0\n",
       "yr_built_bin_enc        0\n",
       "house_age_bin_enc       0\n",
       "yr_renovated_bin_enc    0\n",
       "zipcode_enc             0\n",
       "Region_name_enc         0\n",
       "furnished_enc           0\n",
       "coast_enc               0\n",
       "dtype: int64"
      ]
     },
     "execution_count": 620,
     "metadata": {},
     "output_type": "execute_result"
    }
   ],
   "source": [
    "house_df.isnull().sum()"
   ]
  },
  {
   "cell_type": "markdown",
   "metadata": {},
   "source": [
    "### Finding feature importance"
   ]
  },
  {
   "cell_type": "code",
   "execution_count": 621,
   "metadata": {},
   "outputs": [],
   "source": [
    "#Import Libraries\n",
    "from sklearn.tree import DecisionTreeRegressor\n",
    "from sklearn.model_selection import train_test_split # Sklearn package's randomized data splitting function"
   ]
  },
  {
   "cell_type": "code",
   "execution_count": 622,
   "metadata": {},
   "outputs": [],
   "source": [
    "#Split Data \n",
    "ytemp = house_df[['price']]  # dependent variable\n",
    "Xtemp = house_df.drop(['price'], axis=1) # independant variables"
   ]
  },
  {
   "cell_type": "code",
   "execution_count": 623,
   "metadata": {},
   "outputs": [
    {
     "data": {
      "text/plain": [
       "Text(0, 0.5, 'Feature Importance Score')"
      ]
     },
     "execution_count": 623,
     "metadata": {},
     "output_type": "execute_result"
    },
    {
     "data": {
      "image/png": "[encoded data removed]",
      "text/plain": [
       "<Figure size 864x576 with 1 Axes>"
      ]
     },
     "metadata": {
      "needs_background": "light"
     },
     "output_type": "display_data"
    }
   ],
   "source": [
    "predictors=list(Xtemp)\n",
    "model = DecisionTreeRegressor()\n",
    "model.fit(Xtemp, ytemp)\n",
    "plt.rcParams['figure.figsize']=[12,8]\n",
    "feature_importance = pd.Series(model.feature_importances_, predictors).sort_values(ascending=False)\n",
    "df=feature_importance.nlargest(20).plot(kind='barh', title='Importance of Features')\n",
    "plt.ylabel('Feature Importance Score')\n",
    "\n",
    "#plot Graph of feature importances for better visualisation\n",
    "#feat_importances=pd.Series(model.feature_importances_,index=Xtemp.columns)\n",
    "#feat_importances.nlargest(12).plot(kind='barh') # extracting top 12 features that are contributing to our Target column."
   ]
  },
  {
   "cell_type": "code",
   "execution_count": 624,
   "metadata": {
    "scrolled": true
   },
   "outputs": [
    {
     "data": {
      "text/plain": [
       "furnished_enc           0.320618\n",
       "living_measure          0.147270\n",
       "quality_bin_enc         0.109368\n",
       "house_age               0.093874\n",
       "zipcode_enc             0.082456\n",
       "Region_name_enc         0.065291\n",
       "coast_enc               0.036127\n",
       "ceil_measure            0.026547\n",
       "lot_measure             0.026489\n",
       "total_area              0.024635\n",
       "sight_bin_enc           0.019954\n",
       "basement                0.010270\n",
       "house_age_bin_enc       0.009852\n",
       "yr_renovated_bin_enc    0.005627\n",
       "room_bed_bin_enc        0.005098\n",
       "room_bath_bin_enc       0.004751\n",
       "ceil_bin_enc            0.004052\n",
       "yr_renovated            0.003608\n",
       "condition_bin_enc       0.002365\n",
       "yr_built_bin_enc        0.001747\n",
       "dtype: float64"
      ]
     },
     "execution_count": 624,
     "metadata": {},
     "output_type": "execute_result"
    }
   ],
   "source": [
    "feature_importance"
   ]
  },
  {
   "cell_type": "markdown",
   "metadata": {},
   "source": [
    "#### we can drop last 15  columns since they have least feature_importance and select the remaining for further modeling."
   ]
  },
  {
   "cell_type": "code",
   "execution_count": 625,
   "metadata": {},
   "outputs": [
    {
     "name": "stdout",
     "output_type": "stream",
     "text": [
      "dropped column: yr_renovated_bin_enc\n",
      "dropped column: yr_built_bin_enc\n",
      "dropped column: condition_bin_enc\n"
     ]
    }
   ],
   "source": [
    "col=['yr_renovated_bin_enc','yr_built_bin_enc','condition_bin_enc']\n",
    "dropcols(col)"
   ]
  },
  {
   "cell_type": "code",
   "execution_count": 626,
   "metadata": {},
   "outputs": [
    {
     "data": {
      "text/plain": [
       "(21613, 18)"
      ]
     },
     "execution_count": 626,
     "metadata": {},
     "output_type": "execute_result"
    }
   ],
   "source": [
    "house_df.shape"
   ]
  },
  {
   "cell_type": "code",
   "execution_count": 627,
   "metadata": {},
   "outputs": [
    {
     "data": {
      "text/plain": [
       "Index(['price', 'living_measure', 'lot_measure', 'ceil_measure', 'basement',\n",
       "       'yr_renovated', 'total_area', 'house_age', 'room_bed_bin_enc',\n",
       "       'room_bath_bin_enc', 'quality_bin_enc', 'ceil_bin_enc', 'sight_bin_enc',\n",
       "       'house_age_bin_enc', 'zipcode_enc', 'Region_name_enc', 'furnished_enc',\n",
       "       'coast_enc'],\n",
       "      dtype='object')"
      ]
     },
     "execution_count": 627,
     "metadata": {},
     "output_type": "execute_result"
    }
   ],
   "source": [
    "house_df.columns       \n",
    "            "
   ]
  },
  {
   "cell_type": "markdown",
   "metadata": {},
   "source": [
    "#### At this point we have completed our feature engineering.  Now we will start building our models."
   ]
  },
  {
   "cell_type": "markdown",
   "metadata": {},
   "source": [
    "## Supervised Learning Models:"
   ]
  },
  {
   "cell_type": "code",
   "execution_count": 628,
   "metadata": {},
   "outputs": [],
   "source": [
    "from sklearn.model_selection import train_test_split\n",
    "from sklearn.model_selection import KFold\n",
    "from sklearn.model_selection import cross_val_score\n",
    "from sklearn.linear_model import LinearRegression\n",
    "from sklearn.ensemble import RandomForestRegressor\n",
    "from sklearn.ensemble import GradientBoostingRegressor\n",
    "from sklearn.ensemble import AdaBoostRegressor\n",
    "from sklearn.ensemble import BaggingRegressor"
   ]
  },
  {
   "cell_type": "code",
   "execution_count": 640,
   "metadata": {},
   "outputs": [],
   "source": [
    "#Split Data \n",
    "y = house_df[['price']]  # dependent variable\n",
    "X = house_df.drop(['price'], axis=1) # independant variables"
   ]
  },
  {
   "cell_type": "code",
   "execution_count": 641,
   "metadata": {},
   "outputs": [],
   "source": [
    "# Split X and y into training and test set in 70:30 ratio\n",
    "X_train, X_test, y_train, y_test = train_test_split(X, y, test_size=0.30, random_state=1)"
   ]
  },
  {
   "cell_type": "code",
   "execution_count": 642,
   "metadata": {},
   "outputs": [
    {
     "name": "stdout",
     "output_type": "stream",
     "text": [
      "linear reg on train data  0.6387317213737068\n",
      "linear reg on test data  0.6081206635707701\n"
     ]
    }
   ],
   "source": [
    "linreg = LinearRegression()\n",
    "linreg = linreg.fit(X_train,y_train)\n",
    "print(\"linear reg on train data \", linreg.score(X_train,y_train))\n",
    "print(\"linear reg on test data \", linreg.score(X_test,y_test))\n"
   ]
  },
  {
   "cell_type": "code",
   "execution_count": 643,
   "metadata": {},
   "outputs": [
    {
     "name": "stdout",
     "output_type": "stream",
     "text": [
      "DecisionTreeRegressor on train data  0.9998839683022313\n",
      "DecisionTreeRegressor on test data  0.5644828365196926\n"
     ]
    }
   ],
   "source": [
    "dtree_model=DecisionTreeRegressor()\n",
    "dtree_model=dtree_model.fit(X_train,y_train)\n",
    "print(\"DecisionTreeRegressor on train data \", dtree_model.score(X_train,y_train))\n",
    "print(\"DecisionTreeRegressor on test data \", dtree_model.score(X_test,y_test))"
   ]
  },
  {
   "cell_type": "code",
   "execution_count": 644,
   "metadata": {},
   "outputs": [
    {
     "name": "stderr",
     "output_type": "stream",
     "text": [
      "C:\\Users\\Administrator\\Anaconda3\\lib\\site-packages\\sklearn\\ensemble\\bagging.py:398: DataConversionWarning: A column-vector y was passed when a 1d array was expected. Please change the shape of y to (n_samples, ), for example using ravel().\n",
      "  return column_or_1d(y, warn=True)\n"
     ]
    },
    {
     "name": "stdout",
     "output_type": "stream",
     "text": [
      "BaggingRegressor on train data  0.9701040238603179\n",
      "BaggingRegressor on test data  0.7694929708359112\n"
     ]
    }
   ],
   "source": [
    "bgcl = BaggingRegressor(n_estimators=50)\n",
    "bgcl = bgcl.fit(X_train,y_train)\n",
    "print(\"BaggingRegressor on train data \", bgcl.score(X_train,y_train))\n",
    "print(\"BaggingRegressor on test data \", bgcl.score(X_test,y_test))"
   ]
  },
  {
   "cell_type": "code",
   "execution_count": 645,
   "metadata": {},
   "outputs": [
    {
     "name": "stderr",
     "output_type": "stream",
     "text": [
      "C:\\Users\\Administrator\\Anaconda3\\lib\\site-packages\\sklearn\\ensemble\\gradient_boosting.py:1450: DataConversionWarning: A column-vector y was passed when a 1d array was expected. Please change the shape of y to (n_samples, ), for example using ravel().\n",
      "  y = column_or_1d(y, warn=True)\n"
     ]
    },
    {
     "name": "stdout",
     "output_type": "stream",
     "text": [
      "GradientBoostingRegressor on train data  0.794232865654293\n",
      "GradientBoostingRegressor on test data  0.7459305609610516\n"
     ]
    }
   ],
   "source": [
    "gbmTree = GradientBoostingRegressor(n_estimators=50)\n",
    "gbmTree.fit(X_train,y_train)\n",
    "print(\"GradientBoostingRegressor on train data \",gbmTree.score(X_train,y_train))\n",
    "print(\"GradientBoostingRegressor on test data \",gbmTree.score(X_test,y_test))\n"
   ]
  },
  {
   "cell_type": "code",
   "execution_count": 646,
   "metadata": {},
   "outputs": [
    {
     "name": "stderr",
     "output_type": "stream",
     "text": [
      "C:\\Users\\Administrator\\Anaconda3\\lib\\site-packages\\ipykernel_launcher.py:2: DataConversionWarning: A column-vector y was passed when a 1d array was expected. Please change the shape of y to (n_samples,), for example using ravel().\n",
      "  \n"
     ]
    },
    {
     "name": "stdout",
     "output_type": "stream",
     "text": [
      "RandomForestRegressor on train data  0.9697593273914629\n",
      "RandomForestRegressor on test data  0.7694555195683396\n"
     ]
    }
   ],
   "source": [
    "rfTree = RandomForestRegressor(n_estimators=50)\n",
    "rfTree.fit(X_train,y_train)\n",
    "print(\"RandomForestRegressor on train data \", rfTree.score(X_train,y_train))\n",
    "print(\"RandomForestRegressor on test data \", rfTree.score(X_test,y_test))"
   ]
  },
  {
   "cell_type": "code",
   "execution_count": 636,
   "metadata": {},
   "outputs": [
    {
     "name": "stderr",
     "output_type": "stream",
     "text": [
      "C:\\Users\\Administrator\\Anaconda3\\lib\\site-packages\\sklearn\\ensemble\\gradient_boosting.py:1450: DataConversionWarning: A column-vector y was passed when a 1d array was expected. Please change the shape of y to (n_samples, ), for example using ravel().\n",
      "  y = column_or_1d(y, warn=True)\n"
     ]
    },
    {
     "name": "stdout",
     "output_type": "stream",
     "text": [
      "GBR_model_Tuned on train data  0.6826392110935406\n",
      "GBR_model_Tuned on test data  0.6600498943397954\n"
     ]
    }
   ],
   "source": [
    "GBR_model_Tuned=GradientBoostingRegressor(max_depth=3,  n_estimators=100, learning_rate=0.2, loss='huber', min_samples_leaf= 4)\n",
    "GBR_model_Tuned.fit(X_train,y_train)\n",
    "print(\"GBR_model_Tuned on train data \",gbmTree.score(X_train,y_train))\n",
    "print(\"GBR_model_Tuned on test data \",gbmTree.score(X_test,y_test))"
   ]
  },
  {
   "cell_type": "markdown",
   "metadata": {},
   "source": [
    "#### Random Forest Regressor is giving almost 77% accuracy;which is better than any other regressor models."
   ]
  },
  {
   "cell_type": "markdown",
   "metadata": {},
   "source": [
    "### Save Model"
   ]
  },
  {
   "cell_type": "code",
   "execution_count": 647,
   "metadata": {},
   "outputs": [],
   "source": [
    "import pickle\n",
    "rfTree.fit(X,y.values.ravel())\n",
    "\n",
    "#.values will give the values in an array. (shape: (n,1)\n",
    "#.ravel will convert that array shape to (n, )\n",
    "\n",
    "# Saving model to disk\n",
    "pickle.dump(rfTree, open('../Desktop/CAPSTONE/model/housePrice.pkl','wb'))"
   ]
  },
  {
   "cell_type": "code",
   "execution_count": 648,
   "metadata": {},
   "outputs": [],
   "source": [
    "model = pickle.load(open('../Desktop/CAPSTONE/model/housePrice.pkl', 'rb'))"
   ]
  },
  {
   "cell_type": "code",
   "execution_count": null,
   "metadata": {},
   "outputs": [],
   "source": [
    "            \n"
   ]
  },
  {
   "cell_type": "code",
   "execution_count": null,
   "metadata": {},
   "outputs": [],
   "source": []
  },
  {
   "cell_type": "code",
   "execution_count": null,
   "metadata": {},
   "outputs": [],
   "source": []
  }
 ],
 "metadata": {
  "kernelspec": {
   "display_name": "Python 3",
   "language": "python",
   "name": "python3"
  },
  "language_info": {
   "codemirror_mode": {
    "name": "ipython",
    "version": 3
   },
   "file_extension": ".py",
   "mimetype": "text/x-python",
   "name": "python",
   "nbconvert_exporter": "python",
   "pygments_lexer": "ipython3",
   "version": "3.7.4"
  }
 },
 "nbformat": 4,
 "nbformat_minor": 2
}
